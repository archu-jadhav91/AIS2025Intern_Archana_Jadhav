{
 "cells": [
  {
   "cell_type": "markdown",
   "id": "ca15b176-8b23-4dbc-9969-5bf86e976427",
   "metadata": {},
   "source": [
    "# Creating a Set"
   ]
  },
  {
   "cell_type": "markdown",
   "id": "d04f163d-a5ce-4d3f-89bf-e316cccb4e3e",
   "metadata": {},
   "source": [
    "# Empty set"
   ]
  },
  {
   "cell_type": "code",
   "execution_count": null,
   "id": "9d6047e9-697d-4788-9655-d73175781fec",
   "metadata": {},
   "outputs": [],
   "source": [
    "my_set=set()"
   ]
  },
  {
   "cell_type": "markdown",
   "id": "3cc8091f-004b-4059-a1c4-52b055f8f775",
   "metadata": {},
   "source": [
    "# Set with initial values"
   ]
  },
  {
   "cell_type": "code",
   "execution_count": null,
   "id": "31c6b80e-02ea-4f19-adac-effe96e91ad7",
   "metadata": {},
   "outputs": [],
   "source": [
    "my_set=(1,2,3,4,5)"
   ]
  },
  {
   "cell_type": "markdown",
   "id": "4d0f5ab7-5b98-4ab5-aeba-31a8336987cd",
   "metadata": {},
   "source": [
    "# set with mixed data types"
   ]
  },
  {
   "cell_type": "code",
   "execution_count": null,
   "id": "b6aacfeb-9951-4c5e-a825-c9f2b25b96e2",
   "metadata": {},
   "outputs": [],
   "source": [
    "my_set=(1,\"hello\",3.14,True)"
   ]
  },
  {
   "cell_type": "markdown",
   "id": "0e525443-48d0-4cfb-bcda-43d565b8aa3e",
   "metadata": {},
   "source": [
    "# Set Operations"
   ]
  },
  {
   "cell_type": "code",
   "execution_count": 28,
   "id": "10677fbb-956e-47f3-a120-a638b93ec0a6",
   "metadata": {},
   "outputs": [],
   "source": [
    "my_set=(1,2,3)\n",
    "your_set=(3,4,5)"
   ]
  },
  {
   "cell_type": "markdown",
   "id": "f3331d8c-b2b7-4b9a-8f4b-ec296ce96d7b",
   "metadata": {},
   "source": [
    "# Union"
   ]
  },
  {
   "cell_type": "code",
   "execution_count": 30,
   "id": "091f639c-f3b1-4133-a326-4797efdc5a67",
   "metadata": {},
   "outputs": [
    {
     "ename": "AttributeError",
     "evalue": "'tuple' object has no attribute 'union'",
     "output_type": "error",
     "traceback": [
      "\u001b[1;31m---------------------------------------------------------------------------\u001b[0m",
      "\u001b[1;31mAttributeError\u001b[0m                            Traceback (most recent call last)",
      "Cell \u001b[1;32mIn[30], line 1\u001b[0m\n\u001b[1;32m----> 1\u001b[0m \u001b[38;5;28mprint\u001b[39m(my_set\u001b[38;5;241m.\u001b[39munion(your_set))\n",
      "\u001b[1;31mAttributeError\u001b[0m: 'tuple' object has no attribute 'union'"
     ]
    }
   ],
   "source": [
    "print(my_set.union(your_set))"
   ]
  },
  {
   "cell_type": "markdown",
   "id": "f468c7f9-d840-43c2-86ba-b8419ad52e7d",
   "metadata": {},
   "source": [
    "# Intersection"
   ]
  },
  {
   "cell_type": "code",
   "execution_count": 16,
   "id": "7bd4ac33-9420-46ab-abfa-a067ac45fb42",
   "metadata": {},
   "outputs": [
    {
     "ename": "AttributeError",
     "evalue": "'tuple' object has no attribute 'intersection'",
     "output_type": "error",
     "traceback": [
      "\u001b[1;31m---------------------------------------------------------------------------\u001b[0m",
      "\u001b[1;31mAttributeError\u001b[0m                            Traceback (most recent call last)",
      "Cell \u001b[1;32mIn[16], line 1\u001b[0m\n\u001b[1;32m----> 1\u001b[0m \u001b[38;5;28mprint\u001b[39m(my_set\u001b[38;5;241m.\u001b[39mintersection(your_set))\n",
      "\u001b[1;31mAttributeError\u001b[0m: 'tuple' object has no attribute 'intersection'"
     ]
    }
   ],
   "source": [
    "print(my_set.intersection(your_set))"
   ]
  }
 ],
 "metadata": {
  "kernelspec": {
   "display_name": "Python 3 (ipykernel)",
   "language": "python",
   "name": "python3"
  },
  "language_info": {
   "codemirror_mode": {
    "name": "ipython",
    "version": 3
   },
   "file_extension": ".py",
   "mimetype": "text/x-python",
   "name": "python",
   "nbconvert_exporter": "python",
   "pygments_lexer": "ipython3",
   "version": "3.12.4"
  }
 },
 "nbformat": 4,
 "nbformat_minor": 5
}
