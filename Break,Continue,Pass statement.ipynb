{
 "cells": [
  {
   "cell_type": "markdown",
   "id": "f18b6d72-007f-4e4a-a07a-70ea68ba631e",
   "metadata": {},
   "source": [
    "# Example with Break ,Continue and Pass"
   ]
  },
  {
   "cell_type": "code",
   "execution_count": null,
   "id": "5ef13ca8-f293-4623-a46d-9aa8d4caa13e",
   "metadata": {},
   "outputs": [],
   "source": [
    "* Break : Terminates the loop immedietely.\n",
    "* Continue :Skip the current iteration and moves to next.\n",
    "* Pass: Does nothing;act as a placeorder."
   ]
  },
  {
   "cell_type": "markdown",
   "id": "3e1ae443-5424-463c-9c90-18175da93e6b",
   "metadata": {},
   "source": [
    "# Break statement"
   ]
  },
  {
   "cell_type": "code",
   "execution_count": 9,
   "id": "cafed8f8-80b0-4dcd-ad7f-3697bac1284c",
   "metadata": {},
   "outputs": [
    {
     "name": "stdout",
     "output_type": "stream",
     "text": [
      "0\n",
      "1\n",
      "2\n",
      "3\n",
      "4\n",
      "Loop ended\n"
     ]
    }
   ],
   "source": [
    "i = 0\n",
    "while i < 10:\n",
    "    if i == 5:\n",
    "        break\n",
    "    print(i)\n",
    "    i += 1\n",
    "print(\"Loop ended\")\n"
   ]
  },
  {
   "cell_type": "markdown",
   "id": "fdcb4a2c-8ccc-403b-966c-ca441ae5fd3e",
   "metadata": {},
   "source": [
    "# Continue Statement"
   ]
  },
  {
   "cell_type": "code",
   "execution_count": 12,
   "id": "afa751bb-e39b-4103-853d-74b6cbcaa404",
   "metadata": {},
   "outputs": [
    {
     "name": "stdout",
     "output_type": "stream",
     "text": [
      "1\n",
      "2\n",
      "3\n",
      "4\n",
      "6\n",
      "7\n",
      "8\n",
      "9\n",
      "10\n",
      "Loop ended\n"
     ]
    }
   ],
   "source": [
    "i = 0\n",
    "while i < 10:\n",
    "    i += 1\n",
    "    if i == 5:\n",
    "        continue\n",
    "    print(i)\n",
    "print(\"Loop ended\")"
   ]
  },
  {
   "cell_type": "markdown",
   "id": "a6709f14-cb83-4bdd-8335-e36986d47525",
   "metadata": {},
   "source": [
    "# Pass Statement"
   ]
  },
  {
   "cell_type": "code",
   "execution_count": 15,
   "id": "b6aa2f82-1258-4ca1-85ec-629bb8419bcc",
   "metadata": {},
   "outputs": [
    {
     "name": "stdout",
     "output_type": "stream",
     "text": [
      "0\n",
      "1\n",
      "2\n",
      "3\n",
      "4\n",
      "5\n",
      "6\n",
      "7\n",
      "8\n",
      "9\n",
      "Loop ended\n"
     ]
    }
   ],
   "source": [
    "i = 0\n",
    "while i < 10:\n",
    "    if i == 5:\n",
    "        pass\n",
    "    print(i)\n",
    "    i += 1\n",
    "print(\"Loop ended\")\n"
   ]
  }
 ],
 "metadata": {
  "kernelspec": {
   "display_name": "Python 3 (ipykernel)",
   "language": "python",
   "name": "python3"
  },
  "language_info": {
   "codemirror_mode": {
    "name": "ipython",
    "version": 3
   },
   "file_extension": ".py",
   "mimetype": "text/x-python",
   "name": "python",
   "nbconvert_exporter": "python",
   "pygments_lexer": "ipython3",
   "version": "3.12.4"
  }
 },
 "nbformat": 4,
 "nbformat_minor": 5
}
