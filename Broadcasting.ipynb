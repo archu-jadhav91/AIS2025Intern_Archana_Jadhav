{
 "cells": [
  {
   "cell_type": "markdown",
   "id": "49af43b4-7c45-412a-9a2e-ebe1e2d83e62",
   "metadata": {},
   "source": [
    "# Broadcasting"
   ]
  },
  {
   "cell_type": "markdown",
   "id": "638ef87c-b654-4d59-9735-bfe087d30cfb",
   "metadata": {},
   "source": [
    "* Broadcasting simplifies mathematical operations on arrays with different shapes. \n",
    "* It enables NumPy to efficiently apply operations element-wise without explicitly copying or reshaping data."
   ]
  },
  {
   "cell_type": "markdown",
   "id": "5a3f7a95-8140-4da4-bfe5-ac23e943aa61",
   "metadata": {},
   "source": [
    "# Broadcasting Array in Single Value and 1D Addition"
   ]
  },
  {
   "cell_type": "code",
   "execution_count": 4,
   "id": "2ee3ac1f-a13d-4f4d-978b-d6a7bc80ac7c",
   "metadata": {},
   "outputs": [
    {
     "name": "stdout",
     "output_type": "stream",
     "text": [
      "[2 3 4]\n"
     ]
    }
   ],
   "source": [
    "import numpy as np\n",
    "arr = np.array([1, 2, 3])\n",
    "\n",
    "res = arr + 1  # Adds 1 to each element\n",
    "print(res)"
   ]
  },
  {
   "cell_type": "markdown",
   "id": "a55a43ad-7905-45d4-8dd0-597096e8ee6e",
   "metadata": {},
   "source": [
    "# Broadcasting Array in 1D and 2D Addition"
   ]
  },
  {
   "cell_type": "code",
   "execution_count": 7,
   "id": "9eab1b38-1593-476f-a15b-e49e737f8a22",
   "metadata": {},
   "outputs": [
    {
     "name": "stdout",
     "output_type": "stream",
     "text": [
      "[[ 3  7 11]\n",
      " [ 9 13 17]]\n"
     ]
    }
   ],
   "source": [
    "import numpy as np\n",
    "\n",
    "# Broadcasting a 1D array with a 2D array\n",
    "a1 = np.array([2, 4, 6])\n",
    "a2 = np.array([[1, 3, 5], [7, 9, 11]])\n",
    "res = a1 + a2\n",
    "print(res)"
   ]
  },
  {
   "cell_type": "markdown",
   "id": "217cb525-b79e-4499-a4f4-e2900f46fe6b",
   "metadata": {},
   "source": [
    "# Rules of broadcasting"
   ]
  },
  {
   "cell_type": "markdown",
   "id": "6c86eec2-c1b3-4a0a-8cc5-2703abd12951",
   "metadata": {},
   "source": [
    "* If the arrays have different shapes, NumPy aligns them right-aligned, meaning it compares dimensions from the last axis backward.\n",
    "* If a dimension of size 1 is matched with a larger dimension, the smaller array is stretched (virtually copied) along that dimension.\n",
    "* Two dimensions are compatible when:\n",
    "      They are equal, or\n",
    "      One of them is 1 (broadcasting expands the smaller dimension).\n"
   ]
  },
  {
   "cell_type": "markdown",
   "id": "eaddb9fd-14c8-4799-9f9f-e411601729bc",
   "metadata": {},
   "source": [
    "# Broadcasting along axes :"
   ]
  },
  {
   "cell_type": "code",
   "execution_count": 15,
   "id": "173df037-614c-4679-b6a5-9b8b2f9113a4",
   "metadata": {},
   "outputs": [
    {
     "name": "stdout",
     "output_type": "stream",
     "text": [
      "[[2 3 4]\n",
      " [3 4 5]\n",
      " [4 5 6]]\n"
     ]
    }
   ],
   "source": [
    "row_vec = np.array([[1, 2, 3]])  # Shape (1,3)\n",
    "col_vec = np.array([[1], [2], [3]])  # Shape (3,1)\n",
    "\n",
    "result = row_vec + col_vec\n",
    "print(result)\n"
   ]
  },
  {
   "cell_type": "markdown",
   "id": "3aabb14c-2dfc-4c09-8d8e-dfc4717f8669",
   "metadata": {},
   "source": [
    "# Broadcasting  matching dimensions :\n"
   ]
  },
  {
   "cell_type": "code",
   "execution_count": 20,
   "id": "e5dde433-a14c-4f8a-96a5-453571dc3615",
   "metadata": {},
   "outputs": [
    {
     "name": "stdout",
     "output_type": "stream",
     "text": [
      "[[ 2  4  6]\n",
      " [ 5  7  9]\n",
      " [ 8 10 12]]\n"
     ]
    }
   ],
   "source": [
    "A = np.array([[1, 2, 3],\n",
    "              [4, 5, 6],\n",
    "              [7, 8, 9]])  # Shape (3,3)\n",
    "\n",
    "B = np.array([1, 2, 3])  # Shape (3,)\n",
    "\n",
    "result = A + B\n",
    "print(result)\n"
   ]
  }
 ],
 "metadata": {
  "kernelspec": {
   "display_name": "Python 3 (ipykernel)",
   "language": "python",
   "name": "python3"
  },
  "language_info": {
   "codemirror_mode": {
    "name": "ipython",
    "version": 3
   },
   "file_extension": ".py",
   "mimetype": "text/x-python",
   "name": "python",
   "nbconvert_exporter": "python",
   "pygments_lexer": "ipython3",
   "version": "3.12.4"
  }
 },
 "nbformat": 4,
 "nbformat_minor": 5
}
