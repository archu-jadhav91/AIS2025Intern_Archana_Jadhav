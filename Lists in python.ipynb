{
 "cells": [
  {
   "cell_type": "markdown",
   "id": "6228387c-3036-4380-be04-019eb6e9b86e",
   "metadata": {},
   "source": [
    "# Python List"
   ]
  },
  {
   "cell_type": "markdown",
   "id": "cd9465ee-2f92-460f-baee-b7434dedb3a7",
   "metadata": {},
   "source": [
    "* Mutable - they can modified after creation\n",
    "* Indexed- each element assigned a unique index \n",
    "[starts from 0]\n",
    "* sliced - allowing you to extract a subset of elements\n",
    "* Declared using [] brackets\n",
    "* Each element separate using comma\n"
   ]
  },
  {
   "cell_type": "markdown",
   "id": "aa5959d7-ff5a-4e2d-8429-f75f96365914",
   "metadata": {},
   "source": [
    "# Create a list"
   ]
  },
  {
   "cell_type": "code",
   "execution_count": 3,
   "id": "9a547ee1-df19-42d0-87c7-5c1461b02d1d",
   "metadata": {},
   "outputs": [],
   "source": [
    "fruits=[\"apple\",\"banana\",\"cherry\"]"
   ]
  },
  {
   "cell_type": "markdown",
   "id": "4624fe1e-7ed1-4553-85e4-92c579cd155a",
   "metadata": {},
   "source": [
    "# Accessing elements"
   ]
  },
  {
   "cell_type": "code",
   "execution_count": 6,
   "id": "680b14c8-993f-44c3-8db4-34f5d00b8f27",
   "metadata": {},
   "outputs": [
    {
     "name": "stdout",
     "output_type": "stream",
     "text": [
      "fisrt fruit: apple\n"
     ]
    }
   ],
   "source": [
    "print(\"fisrt fruit:\",fruits[0])"
   ]
  },
  {
   "cell_type": "code",
   "execution_count": 8,
   "id": "0cbeb347-6c44-4187-9660-979e9d9fbfdd",
   "metadata": {},
   "outputs": [
    {
     "name": "stdout",
     "output_type": "stream",
     "text": [
      "last fruit: cherry\n"
     ]
    }
   ],
   "source": [
    "print(\"last fruit:\",fruits[-1])"
   ]
  },
  {
   "cell_type": "markdown",
   "id": "ba9593d9-5ff0-40b9-9fbc-8d0ff062ca79",
   "metadata": {},
   "source": [
    "# Modifying Elements"
   ]
  },
  {
   "cell_type": "code",
   "execution_count": 13,
   "id": "51526750-a025-4711-89cf-0925c9776e9a",
   "metadata": {},
   "outputs": [
    {
     "name": "stdout",
     "output_type": "stream",
     "text": [
      "modified list: ['Mango', 'banana', 'cherry']\n"
     ]
    }
   ],
   "source": [
    "fruits[0]=\"Mango\"\n",
    "print(\"modified list:\",fruits)"
   ]
  },
  {
   "cell_type": "markdown",
   "id": "b4c28637-3c2c-4c45-9996-7534850298a2",
   "metadata": {},
   "source": [
    "# Adding elements"
   ]
  },
  {
   "cell_type": "code",
   "execution_count": 18,
   "id": "a264da06-964c-4a7c-ae9c-5966d3121559",
   "metadata": {},
   "outputs": [
    {
     "name": "stdout",
     "output_type": "stream",
     "text": [
      "list after append: ['Mango', 'banana', 'cherry', 'orange']\n"
     ]
    }
   ],
   "source": [
    "fruits.append(\"orange\")\n",
    "print(\"list after append:\",fruits)"
   ]
  },
  {
   "cell_type": "code",
   "execution_count": 20,
   "id": "cefd7209-91d4-4438-9e7e-3154023da060",
   "metadata": {},
   "outputs": [
    {
     "name": "stdout",
     "output_type": "stream",
     "text": [
      "list after insert: ['Mango', 'grape', 'banana', 'cherry', 'orange']\n"
     ]
    }
   ],
   "source": [
    "fruits.insert(1,\"grape\")\n",
    "print(\"list after insert:\",fruits)"
   ]
  },
  {
   "cell_type": "markdown",
   "id": "d08fc04a-62cc-4d10-8feb-676a3e41beea",
   "metadata": {},
   "source": [
    "# Removing elemnts"
   ]
  },
  {
   "cell_type": "code",
   "execution_count": 23,
   "id": "07c006a3-64ca-46e2-a8e3-8c91ac78d34b",
   "metadata": {},
   "outputs": [
    {
     "name": "stdout",
     "output_type": "stream",
     "text": [
      "list after remove: ['Mango', 'grape', 'cherry', 'orange']\n"
     ]
    }
   ],
   "source": [
    "fruits.remove(\"banana\")\n",
    "print(\"list after remove:\",fruits)"
   ]
  },
  {
   "cell_type": "code",
   "execution_count": 25,
   "id": "2031ab30-3d3e-4d76-89a5-29d89cd3e365",
   "metadata": {},
   "outputs": [
    {
     "name": "stdout",
     "output_type": "stream",
     "text": [
      "list after pop: ['grape', 'cherry', 'orange']\n"
     ]
    }
   ],
   "source": [
    "fruits.pop(0)\n",
    "print(\"list after pop:\",fruits)"
   ]
  },
  {
   "cell_type": "markdown",
   "id": "3bc4fb35-47d1-45a0-bfc4-c06f5045c633",
   "metadata": {},
   "source": [
    "# Other methods"
   ]
  },
  {
   "cell_type": "code",
   "execution_count": 28,
   "id": "8b0346bd-779b-4d02-941b-ad300c21682b",
   "metadata": {},
   "outputs": [
    {
     "name": "stdout",
     "output_type": "stream",
     "text": [
      "sorted list: ['cherry', 'grape', 'orange']\n"
     ]
    }
   ],
   "source": [
    "fruits.sort()\n",
    "print(\"sorted list:\",fruits)"
   ]
  },
  {
   "cell_type": "markdown",
   "id": "e7840add-2e4c-4990-b37b-57dc2d64f7e8",
   "metadata": {},
   "source": [
    "# Reverse"
   ]
  },
  {
   "cell_type": "code",
   "execution_count": 31,
   "id": "72c7d8f0-034d-4131-ba7d-9cfb3f208e1a",
   "metadata": {},
   "outputs": [
    {
     "name": "stdout",
     "output_type": "stream",
     "text": [
      "reversed list: ['orange', 'grape', 'cherry']\n"
     ]
    }
   ],
   "source": [
    "fruits.reverse()\n",
    "print(\"reversed list:\",fruits)"
   ]
  },
  {
   "cell_type": "markdown",
   "id": "f1dc2e42-43b8-4741-92fb-c4f48a5fab3b",
   "metadata": {},
   "source": [
    "# Extend"
   ]
  },
  {
   "cell_type": "code",
   "execution_count": 34,
   "id": "ef251349-baa7-4272-8bf7-d1be1c637d3d",
   "metadata": {},
   "outputs": [
    {
     "name": "stdout",
     "output_type": "stream",
     "text": [
      "list after extend: ['orange', 'grape', 'cherry', 'pear', 'peach']\n"
     ]
    }
   ],
   "source": [
    "fruits.extend([\"pear\",\"peach\"])\n",
    "print(\"list after extend:\",fruits)"
   ]
  },
  {
   "cell_type": "markdown",
   "id": "2463927f-8916-4c36-b0e5-be2184cc1afe",
   "metadata": {},
   "source": [
    "# Count"
   ]
  },
  {
   "cell_type": "code",
   "execution_count": 41,
   "id": "92662638-4e4a-438c-bc02-536ada08202d",
   "metadata": {},
   "outputs": [
    {
     "name": "stdout",
     "output_type": "stream",
     "text": [
      "count of apple: 0\n"
     ]
    }
   ],
   "source": [
    "print(\"count of apple:\",fruits.count(\"apple\"))"
   ]
  },
  {
   "cell_type": "markdown",
   "id": "e74ca9c9-d0a2-44eb-9670-8dd9fab2651d",
   "metadata": {},
   "source": [
    "# Index"
   ]
  },
  {
   "cell_type": "code",
   "execution_count": 44,
   "id": "102e96db-eaa6-49c4-a32f-ae31529af165",
   "metadata": {},
   "outputs": [
    {
     "name": "stdout",
     "output_type": "stream",
     "text": [
      "Index of cherry: 2\n"
     ]
    }
   ],
   "source": [
    "print(\"Index of cherry:\",fruits.index(\"cherry\"))"
   ]
  },
  {
   "cell_type": "markdown",
   "id": "9dde8ee4-31c1-4bc6-bd89-91a6ceb618f6",
   "metadata": {},
   "source": [
    "# Copy"
   ]
  },
  {
   "cell_type": "code",
   "execution_count": 47,
   "id": "887a6421-ff27-456b-894a-84ec85c4bd6e",
   "metadata": {},
   "outputs": [
    {
     "name": "stdout",
     "output_type": "stream",
     "text": [
      "copies list: ['orange', 'grape', 'cherry', 'pear', 'peach']\n"
     ]
    }
   ],
   "source": [
    "new_list=fruits.copy()\n",
    "print(\"copies list:\",new_list)"
   ]
  },
  {
   "cell_type": "markdown",
   "id": "c8a06eeb-024d-44ba-af2a-74e19f33510e",
   "metadata": {},
   "source": []
  },
  {
   "cell_type": "code",
   "execution_count": null,
   "id": "fb45a9f6-a8d2-4217-be0f-bd05031a3e41",
   "metadata": {},
   "outputs": [],
   "source": []
  }
 ],
 "metadata": {
  "kernelspec": {
   "display_name": "Python 3 (ipykernel)",
   "language": "python",
   "name": "python3"
  },
  "language_info": {
   "codemirror_mode": {
    "name": "ipython",
    "version": 3
   },
   "file_extension": ".py",
   "mimetype": "text/x-python",
   "name": "python",
   "nbconvert_exporter": "python",
   "pygments_lexer": "ipython3",
   "version": "3.12.4"
  }
 },
 "nbformat": 4,
 "nbformat_minor": 5
}
