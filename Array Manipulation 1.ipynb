{
 "cells": [
  {
   "cell_type": "markdown",
   "id": "1b0c244f-dc1c-4fda-b4e2-81b38e759f5a",
   "metadata": {},
   "source": [
    "# Array manipulation"
   ]
  },
  {
   "cell_type": "markdown",
   "id": "887beae3-e70f-4d08-b34c-687d9c4d0fb6",
   "metadata": {},
   "source": [
    "* Array manipulation refers to changing the structure, dimensions, or content of NumPy arrays to suit specific needs."
   ]
  },
  {
   "cell_type": "markdown",
   "id": "8e834183-f96f-4def-9687-08c6aee0c591",
   "metadata": {},
   "source": [
    "# Multidimensional array"
   ]
  },
  {
   "cell_type": "markdown",
   "id": "22c0756d-4ea7-4f39-930a-0596630c4fb1",
   "metadata": {},
   "source": [
    "* A multi-dimensional array (ndarray) has multiple axes (dimensions):\n",
    "\n",
    "* A 1D array is like a list: [1, 2, 3]\n",
    "* A 2D array is like a matrix: [[1, 2, 3], [4, 5, 6]]\n",
    "* A 3D array is like a cube: [[[1, 2], [3, 4]], [[5, 6], [7, 8]]]"
   ]
  },
  {
   "cell_type": "markdown",
   "id": "b3b6b6f6-640a-43c4-b719-107e44d91cc4",
   "metadata": {},
   "source": [
    "# Indexing in multidimensional array"
   ]
  },
  {
   "cell_type": "markdown",
   "id": "804a7487-8e7b-4eba-9505-af00a37cca32",
   "metadata": {},
   "source": [
    "* Indexing is the process of accessing a specific element in the array using its indices."
   ]
  },
  {
   "cell_type": "code",
   "execution_count": 10,
   "id": "f38c9357-dc20-426f-9319-6aa374371f90",
   "metadata": {},
   "outputs": [
    {
     "name": "stdout",
     "output_type": "stream",
     "text": [
      "6\n",
      "3\n"
     ]
    }
   ],
   "source": [
    "# Indexing in 2D array\n",
    "import numpy as np\n",
    "arr_2d = np.array([[1, 2, 3], \n",
    "                    [4, 5, 6], \n",
    "                    [7, 8, 9]])\n",
    "print(arr_2d[1, 2]) \n",
    "print(arr_2d[0, -1]) \n"
   ]
  },
  {
   "cell_type": "code",
   "execution_count": 12,
   "id": "3f2a3767-8c10-493a-b70c-188a4b5f2acc",
   "metadata": {},
   "outputs": [
    {
     "name": "stdout",
     "output_type": "stream",
     "text": [
      "6\n",
      "3\n"
     ]
    }
   ],
   "source": [
    "# Indexing in a 3D Array\n",
    "import numpy as np\n",
    "arr_3d = np.array([[[1, 2], [3, 4]], \n",
    "                    [[5, 6], [7, 8]]])\n",
    "print(arr_3d[1, 0, 1])  \n",
    "print(arr_3d[0, 1, 0]) "
   ]
  },
  {
   "cell_type": "markdown",
   "id": "b4b1a624-909a-4654-bed8-c5f2581d4260",
   "metadata": {},
   "source": [
    "# Slicing in multidimensional array"
   ]
  },
  {
   "cell_type": "code",
   "execution_count": 17,
   "id": "facc187f-2f7d-4ea5-a6be-fd02d0ad5ccf",
   "metadata": {},
   "outputs": [
    {
     "name": "stdout",
     "output_type": "stream",
     "text": [
      "[[1 2 3]\n",
      " [4 5 6]]\n"
     ]
    }
   ],
   "source": [
    "# slicing in 2D array\n",
    "import numpy as np\n",
    "arr_2d = np.array([[1, 2, 3], \n",
    "                    [4, 5, 6], \n",
    "                    [7, 8, 9]])\n",
    "print(arr_2d[:2, :])  \n"
   ]
  },
  {
   "cell_type": "code",
   "execution_count": 19,
   "id": "1de402aa-b615-488b-a2e3-25f72d43ee70",
   "metadata": {},
   "outputs": [
    {
     "name": "stdout",
     "output_type": "stream",
     "text": [
      "[[3 4]\n",
      " [7 8]]\n"
     ]
    }
   ],
   "source": [
    "# slicing in 3D array\n",
    "print(arr_3d[:, 1, :])  "
   ]
  },
  {
   "cell_type": "markdown",
   "id": "966095f6-ef91-49c5-bab3-f9cc79cb071a",
   "metadata": {},
   "source": [
    "# Masking (Logical Indexing Based on Conditions)"
   ]
  },
  {
   "cell_type": "markdown",
   "id": "595755d4-949a-4038-ab93-15e15cbc6a06",
   "metadata": {},
   "source": [
    "* Masking allows selecting elements based on conditions."
   ]
  },
  {
   "cell_type": "code",
   "execution_count": 23,
   "id": "abac3072-2079-40bb-b3b3-37a8d0a29a8e",
   "metadata": {},
   "outputs": [
    {
     "name": "stdout",
     "output_type": "stream",
     "text": [
      "[False False False  True  True]\n"
     ]
    }
   ],
   "source": [
    "import numpy as np\n",
    " \n",
    "a = np.array([1, 2, 3, 4, 5])\n",
    "mask = a > 3\n",
    "print(mask)"
   ]
  },
  {
   "cell_type": "code",
   "execution_count": 25,
   "id": "6cc930b1-f32c-4b67-b464-f1ece91a3ffa",
   "metadata": {},
   "outputs": [
    {
     "name": "stdout",
     "output_type": "stream",
     "text": [
      "[50 60 70 80 90]\n"
     ]
    }
   ],
   "source": [
    "arr_2d = np.array([[10, 20, 30], \n",
    "                    [40, 50, 60], \n",
    "                    [70, 80, 90]])\n",
    "\n",
    "mask = arr_2d > 40\n",
    "print(arr_2d[mask])  \n",
    "\n"
   ]
  },
  {
   "cell_type": "markdown",
   "id": "9b519a99-23cb-468b-aab8-c1eb8063f9d3",
   "metadata": {},
   "source": [
    "# Fancy Indexing (Selecting Elements Using Lists/Arrays)"
   ]
  },
  {
   "cell_type": "markdown",
   "id": "a1ff682e-51f6-4f17-a4cc-8e440c13751a",
   "metadata": {},
   "source": [
    "* Fancy indexing allows selecting multiple elements using arrays of indices."
   ]
  },
  {
   "cell_type": "code",
   "execution_count": 29,
   "id": "5be8b116-6c07-48b0-8af6-a34eb778d937",
   "metadata": {},
   "outputs": [
    {
     "name": "stdout",
     "output_type": "stream",
     "text": [
      "Simple Indexing: 4\n",
      "Fancy Indexing: [2 3 6 8]\n"
     ]
    }
   ],
   "source": [
    "import numpy as np\n",
    "\n",
    "array1 = np.array([1, 2, 3, 4, 5, 6, 7, 8])\n",
    "\n",
    "# select a single element\n",
    "simple_indexing = array1[3]\n",
    "\n",
    "print(\"Simple Indexing:\",simple_indexing)   \n",
    "\n",
    "# select multiple elements\n",
    "fancy_indexing = array1[[1, 2, 5, 7]]\n",
    "\n",
    "print(\"Fancy Indexing:\",fancy_indexing)  "
   ]
  }
 ],
 "metadata": {
  "kernelspec": {
   "display_name": "Python 3 (ipykernel)",
   "language": "python",
   "name": "python3"
  },
  "language_info": {
   "codemirror_mode": {
    "name": "ipython",
    "version": 3
   },
   "file_extension": ".py",
   "mimetype": "text/x-python",
   "name": "python",
   "nbconvert_exporter": "python",
   "pygments_lexer": "ipython3",
   "version": "3.12.4"
  }
 },
 "nbformat": 4,
 "nbformat_minor": 5
}
