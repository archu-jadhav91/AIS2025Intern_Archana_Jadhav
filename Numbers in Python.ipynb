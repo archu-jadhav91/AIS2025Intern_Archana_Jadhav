{
 "cells": [
  {
   "cell_type": "markdown",
   "id": "ae27f1a7-6321-41fb-bd8c-bfdf4ff75a8d",
   "metadata": {},
   "source": [
    "# Discuss different types of numbers -\n"
   ]
  },
  {
   "cell_type": "markdown",
   "id": "5aeeead0-10bf-48ee-919f-cbe7383b5156",
   "metadata": {},
   "source": [
    "# Integers"
   ]
  },
  {
   "cell_type": "code",
   "execution_count": 8,
   "id": "1b478206-7e85-4610-b160-c5035950d70a",
   "metadata": {},
   "outputs": [],
   "source": [
    "a=10\n",
    "b=20"
   ]
  },
  {
   "cell_type": "markdown",
   "id": "cd5bb275-a56c-488b-ba70-764ac63cda65",
   "metadata": {},
   "source": [
    "# Floats\n"
   ]
  },
  {
   "cell_type": "code",
   "execution_count": 31,
   "id": "4e9165a0-f3a0-4467-a5a6-31eba91d1076",
   "metadata": {},
   "outputs": [],
   "source": [
    "c=10.5\n",
    "d=20.5"
   ]
  },
  {
   "cell_type": "markdown",
   "id": "db3a7a1d-87a7-474c-bc03-70b916b85436",
   "metadata": {},
   "source": [
    "# Complex Numbers\n"
   ]
  },
  {
   "cell_type": "code",
   "execution_count": 41,
   "id": "812d61f8-8447-4187-a8c0-1087ba3d2634",
   "metadata": {},
   "outputs": [],
   "source": [
    "e=10+5j\n",
    "f=20+5j"
   ]
  },
  {
   "cell_type": "markdown",
   "id": "d3e339e7-5854-467d-ad13-fb0ec999dc74",
   "metadata": {},
   "source": [
    "# Basic arithmatic operations for integers\n"
   ]
  },
  {
   "cell_type": "markdown",
   "id": "852f2dc0-b1d3-4dec-b276-6361b520205e",
   "metadata": {},
   "source": [
    "# Addition"
   ]
  },
  {
   "cell_type": "code",
   "execution_count": 10,
   "id": "7700c24e-a163-49e0-8546-0e252469c3f0",
   "metadata": {},
   "outputs": [
    {
     "name": "stdout",
     "output_type": "stream",
     "text": [
      "addition: 30\n"
     ]
    }
   ],
   "source": [
    "print(\"addition:\",a+b)"
   ]
  },
  {
   "cell_type": "markdown",
   "id": "47b86152-d5f7-4144-84df-44f7fc062d25",
   "metadata": {},
   "source": [
    "# Substraction\n"
   ]
  },
  {
   "cell_type": "code",
   "execution_count": 15,
   "id": "26bf4a4d-a39a-467a-9c6c-8b20d3851ef6",
   "metadata": {},
   "outputs": [
    {
     "name": "stdout",
     "output_type": "stream",
     "text": [
      "substraction: -10\n"
     ]
    }
   ],
   "source": [
    "print(\"substraction:\",a-b)"
   ]
  },
  {
   "cell_type": "markdown",
   "id": "6b8a8a48-f53b-43f9-ab45-393baa568077",
   "metadata": {},
   "source": [
    "# Multiplication\n"
   ]
  },
  {
   "cell_type": "markdown",
   "id": "6f7174a7-a714-4b44-a9b9-605bb3c89410",
   "metadata": {},
   "source": [
    "print(\"multiplication:\",a*b)\n"
   ]
  },
  {
   "cell_type": "markdown",
   "id": "4508cadb-a02f-46b0-a18e-e7fd1c056852",
   "metadata": {},
   "source": [
    "# Division\n"
   ]
  },
  {
   "cell_type": "code",
   "execution_count": 19,
   "id": "870e7d7d-e3c1-4fd2-b4c5-15978a983446",
   "metadata": {},
   "outputs": [
    {
     "name": "stdout",
     "output_type": "stream",
     "text": [
      "division: 0.5\n"
     ]
    }
   ],
   "source": [
    "print(\"division:\",a/b)"
   ]
  },
  {
   "cell_type": "markdown",
   "id": "431c3f1b-f21c-4b09-9fa8-e08fc4219896",
   "metadata": {},
   "source": [
    "# Basic arithmatic operation for Floats\n"
   ]
  },
  {
   "cell_type": "markdown",
   "id": "2f8b94f8-859e-484f-81df-ec1abc97aa63",
   "metadata": {},
   "source": [
    "# Addition"
   ]
  },
  {
   "cell_type": "code",
   "execution_count": 33,
   "id": "3bf21b5b-1d8e-4db9-8bed-c030795bce43",
   "metadata": {},
   "outputs": [
    {
     "name": "stdout",
     "output_type": "stream",
     "text": [
      "addition: 31.0\n"
     ]
    }
   ],
   "source": [
    "print(\"addition:\",c+d)"
   ]
  },
  {
   "cell_type": "markdown",
   "id": "1027227e-5407-4aba-877b-962b79e79565",
   "metadata": {},
   "source": [
    "# Substraction\n"
   ]
  },
  {
   "cell_type": "code",
   "execution_count": 35,
   "id": "8ec6fe72-51fc-46b0-8850-e3f4065cedee",
   "metadata": {},
   "outputs": [
    {
     "name": "stdout",
     "output_type": "stream",
     "text": [
      "substraction: -10.0\n"
     ]
    }
   ],
   "source": [
    "print(\"substraction:\",c-d)"
   ]
  },
  {
   "cell_type": "markdown",
   "id": "42d3a72e-5568-4b97-8608-332239702685",
   "metadata": {},
   "source": [
    "# Multiplication\n"
   ]
  },
  {
   "cell_type": "code",
   "execution_count": 37,
   "id": "17caca27-f78e-4192-a344-693f07dcbfee",
   "metadata": {},
   "outputs": [
    {
     "name": "stdout",
     "output_type": "stream",
     "text": [
      "multiplication: 215.25\n"
     ]
    }
   ],
   "source": [
    "print(\"multiplication:\",c*d)"
   ]
  },
  {
   "cell_type": "markdown",
   "id": "99972607-e56f-454e-891d-b650dabc95a9",
   "metadata": {},
   "source": [
    "# Division\n"
   ]
  },
  {
   "cell_type": "code",
   "execution_count": 39,
   "id": "1b0f80fb-0aee-4f54-ab18-3f28fc106438",
   "metadata": {},
   "outputs": [
    {
     "name": "stdout",
     "output_type": "stream",
     "text": [
      "division: 0.5121951219512195\n"
     ]
    }
   ],
   "source": [
    "print(\"division:\",c/d)"
   ]
  },
  {
   "cell_type": "markdown",
   "id": "cb20118f-d26e-46a4-a66a-2d6c6d1b3a50",
   "metadata": {},
   "source": [
    "# Basic Arithmatic Operation for Complex Numbers\n"
   ]
  },
  {
   "cell_type": "markdown",
   "id": "8ebbc815-9ef3-42d2-8b9a-d2803996101c",
   "metadata": {},
   "source": [
    "# Addition"
   ]
  },
  {
   "cell_type": "code",
   "execution_count": 43,
   "id": "2476a02f-7d57-4c1b-a6c5-40016818329d",
   "metadata": {},
   "outputs": [
    {
     "name": "stdout",
     "output_type": "stream",
     "text": [
      "addition: (30+10j)\n"
     ]
    }
   ],
   "source": [
    "print(\"addition:\",e+f)"
   ]
  },
  {
   "cell_type": "markdown",
   "id": "e33e9cb7-fefb-4655-8ec6-a4550ef54b66",
   "metadata": {},
   "source": [
    "# Substraction\n"
   ]
  },
  {
   "cell_type": "code",
   "execution_count": 45,
   "id": "aea5e5c1-22e4-4d6a-983d-a6927152601c",
   "metadata": {},
   "outputs": [
    {
     "name": "stdout",
     "output_type": "stream",
     "text": [
      "substraction: (-10+0j)\n"
     ]
    }
   ],
   "source": [
    "print(\"substraction:\",e-f)"
   ]
  },
  {
   "cell_type": "markdown",
   "id": "bcf7bcc9-c147-49c8-8a4b-8a7d3da9ce20",
   "metadata": {},
   "source": [
    "# Multiplication\n"
   ]
  },
  {
   "cell_type": "code",
   "execution_count": 47,
   "id": "a226611c-57be-43d3-a563-dbbd3b1fd239",
   "metadata": {},
   "outputs": [
    {
     "name": "stdout",
     "output_type": "stream",
     "text": [
      "multiplication: (175+150j)\n"
     ]
    }
   ],
   "source": [
    "print(\"multiplication:\",e*f)"
   ]
  },
  {
   "cell_type": "markdown",
   "id": "c0e0234f-ec9d-4a90-aafa-99d332063748",
   "metadata": {},
   "source": [
    "# Division\n"
   ]
  },
  {
   "cell_type": "code",
   "execution_count": 50,
   "id": "695e6716-6b91-47f6-801c-a0c5b3a2721c",
   "metadata": {},
   "outputs": [
    {
     "name": "stdout",
     "output_type": "stream",
     "text": [
      "division: (0.5294117647058824+0.11764705882352941j)\n"
     ]
    }
   ],
   "source": [
    "print(\"division:\",e/f)"
   ]
  }
 ],
 "metadata": {
  "kernelspec": {
   "display_name": "Python 3 (ipykernel)",
   "language": "python",
   "name": "python3"
  },
  "language_info": {
   "codemirror_mode": {
    "name": "ipython",
    "version": 3
   },
   "file_extension": ".py",
   "mimetype": "text/x-python",
   "name": "python",
   "nbconvert_exporter": "python",
   "pygments_lexer": "ipython3",
   "version": "3.12.4"
  }
 },
 "nbformat": 4,
 "nbformat_minor": 5
}
