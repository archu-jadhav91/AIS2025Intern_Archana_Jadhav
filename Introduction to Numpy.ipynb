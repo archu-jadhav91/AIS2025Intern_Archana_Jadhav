{
 "cells": [
  {
   "cell_type": "markdown",
   "id": "c2c46449-f50a-4761-8a85-c4ceec0e64ea",
   "metadata": {},
   "source": [
    "# Introduction to Numpy-"
   ]
  },
  {
   "cell_type": "markdown",
   "id": "d657b9ed-8465-4201-be25-1747896bc4be",
   "metadata": {},
   "source": [
    "# What Is Numpy ?"
   ]
  },
  {
   "cell_type": "markdown",
   "id": "b181662d-e9f7-44fa-be27-a3c2628403d3",
   "metadata": {},
   "source": [
    "* NumPy (Numerical Python) is a powerful library for numerical computations in Python.\n",
    "* Provides support for multi-dimensional arrays and matrices.\n",
    "* Includes a wide range of mathematical functions to perform operations efficiently.\n"
   ]
  },
  {
   "cell_type": "markdown",
   "id": "b3275f5e-2ec7-40e2-87fb-31de1fd5afc3",
   "metadata": {},
   "source": [
    "# Importance of Numpy -"
   ]
  },
  {
   "cell_type": "markdown",
   "id": "678b1058-d4e5-490a-ab53-e3435eb3d0a6",
   "metadata": {},
   "source": [
    "* Foundation for scientific computing.\n",
    "* Efficient handling of large datasets (compared to Python lists).\n",
    "* Core library for data science and machine learning frameworks like Pandas, TensorFlow, and PyTorch.\n"
   ]
  },
  {
   "cell_type": "markdown",
   "id": "9f92b04f-0f52-4a50-b9f9-0bf2db1d433e",
   "metadata": {},
   "source": [
    "# Installation Of Numpy-"
   ]
  },
  {
   "cell_type": "code",
   "execution_count": null,
   "id": "63f7313f-acc9-46cf-af75-ba3beecae1df",
   "metadata": {},
   "outputs": [],
   "source": [
    "pip install numpy"
   ]
  },
  {
   "cell_type": "markdown",
   "id": "0d964e56-9b8c-42de-8175-0bee4ff62036",
   "metadata": {},
   "source": [
    "# Role of Numpy library in data science,machine learning and scientific computing."
   ]
  },
  {
   "cell_type": "markdown",
   "id": "2645ab6c-e8c7-4e33-8672-99f36d97dc3b",
   "metadata": {},
   "source": [
    "* NumPy is the backbone of Python's ecosystem for data science, machine learning, and scientific computing. \n",
    "*It ensures speed, efficiency, and reliability for numerical tasks, making it indispensable in these domains.\n"
   ]
  },
  {
   "cell_type": "code",
   "execution_count": null,
   "id": "d99c072f-1652-4761-b14d-345bcc76b8f2",
   "metadata": {},
   "outputs": [],
   "source": []
  }
 ],
 "metadata": {
  "kernelspec": {
   "display_name": "Python 3 (ipykernel)",
   "language": "python",
   "name": "python3"
  },
  "language_info": {
   "codemirror_mode": {
    "name": "ipython",
    "version": 3
   },
   "file_extension": ".py",
   "mimetype": "text/x-python",
   "name": "python",
   "nbconvert_exporter": "python",
   "pygments_lexer": "ipython3",
   "version": "3.12.4"
  }
 },
 "nbformat": 4,
 "nbformat_minor": 5
}
