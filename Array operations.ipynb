{
 "cells": [
  {
   "cell_type": "markdown",
   "id": "f226add7-bdd7-4e90-b10f-9ec8b0708527",
   "metadata": {},
   "source": [
    "# Arithmatic Operations on Numpy arrays"
   ]
  },
  {
   "cell_type": "markdown",
   "id": "c159c312-dc30-4bd5-826b-3c9b34589b71",
   "metadata": {},
   "source": [
    "* Arithmetic operations in NumPy are applied element-wise, which means they are performed on each element of the array independently."
   ]
  },
  {
   "cell_type": "markdown",
   "id": "0c8601d3-8c61-4b0c-a306-519b9e7b414c",
   "metadata": {},
   "source": [
    "# Addition"
   ]
  },
  {
   "cell_type": "code",
   "execution_count": 5,
   "id": "83213aa5-ce26-4f1b-9a13-9830906274e6",
   "metadata": {},
   "outputs": [
    {
     "name": "stdout",
     "output_type": "stream",
     "text": [
      "[5 7 9]\n"
     ]
    }
   ],
   "source": [
    "import numpy as np\n",
    "a=np.array([1,2,3])\n",
    "b=np.array([4,5,6])\n",
    "print(a+b)"
   ]
  },
  {
   "cell_type": "markdown",
   "id": "b3811c02-4e52-424b-93ea-2556dd76b6b8",
   "metadata": {},
   "source": [
    "# Substrction"
   ]
  },
  {
   "cell_type": "code",
   "execution_count": 8,
   "id": "cb90712b-3577-4db4-a18f-c95961b659fe",
   "metadata": {},
   "outputs": [
    {
     "name": "stdout",
     "output_type": "stream",
     "text": [
      "[-3 -3 -3]\n"
     ]
    }
   ],
   "source": [
    "import numpy as np\n",
    "a=np.array([1,2,3])\n",
    "b=np.array([4,5,6])\n",
    "print(a-b)"
   ]
  },
  {
   "cell_type": "markdown",
   "id": "a5358cee-b725-41cc-abd1-ef47342c3786",
   "metadata": {},
   "source": [
    "# Multiplication"
   ]
  },
  {
   "cell_type": "code",
   "execution_count": 11,
   "id": "626502a3-5fdf-414c-ad39-f2a6d84a1745",
   "metadata": {},
   "outputs": [
    {
     "name": "stdout",
     "output_type": "stream",
     "text": [
      "[ 4 10 18]\n"
     ]
    }
   ],
   "source": [
    "import numpy as np\n",
    "a=np.array([1,2,3])\n",
    "b=np.array([4,5,6])\n",
    "print(a*b)"
   ]
  },
  {
   "cell_type": "markdown",
   "id": "a0e3b736-7de4-40b8-a4fd-9c13bffcb7da",
   "metadata": {},
   "source": [
    "# Division"
   ]
  },
  {
   "cell_type": "code",
   "execution_count": 14,
   "id": "57f8183a-aa67-4175-9da6-f2d07123f9b1",
   "metadata": {},
   "outputs": [
    {
     "name": "stdout",
     "output_type": "stream",
     "text": [
      "[0.25 0.4  0.5 ]\n"
     ]
    }
   ],
   "source": [
    "import numpy as np\n",
    "a=np.array([1,2,3])\n",
    "b=np.array([4,5,6])\n",
    "print(a/b)"
   ]
  },
  {
   "cell_type": "markdown",
   "id": "dba12c4e-c5a3-42a2-8856-20f443ab3ccd",
   "metadata": {},
   "source": [
    "# Broadcasting"
   ]
  },
  {
   "cell_type": "markdown",
   "id": "3a8cd437-b2d2-4cba-b1ca-a31ef4fb2c6e",
   "metadata": {},
   "source": [
    "* Broadcasting allows NumPy to perform operations between arrays of different shapes by expanding the smaller array to match the dimensions of the larger one."
   ]
  },
  {
   "cell_type": "markdown",
   "id": "fa3a4c88-e133-484c-a7b4-b8a0159e71e5",
   "metadata": {},
   "source": [
    "# Rules of Broadcasting"
   ]
  },
  {
   "cell_type": "markdown",
   "id": "05e37a99-85a4-4bfe-a8ac-da0bd6e2a967",
   "metadata": {},
   "source": [
    "* Arrays are aligned by their trailing dimensions (starting from the right).\n",
    "* A dimension with size 1 or missing in one array can be stretched to match the corresponding dimension of the other array."
   ]
  },
  {
   "cell_type": "markdown",
   "id": "78f42513-8e8c-48ff-b322-5c1fcb0a9e47",
   "metadata": {},
   "source": [
    "# Array with shape (3,)\n",
    "\n",
    "\n"
   ]
  },
  {
   "cell_type": "code",
   "execution_count": 24,
   "id": "4752db43-3ad3-4cbe-98a7-12f220491ecd",
   "metadata": {},
   "outputs": [],
   "source": [
    "import numpy as np\n",
    "a = np.array([1, 2, 3])"
   ]
  },
  {
   "cell_type": "markdown",
   "id": "f6d9e338-328e-46be-a21c-855306aab7ef",
   "metadata": {},
   "source": [
    "# Scalar broadcasted to (3,)"
   ]
  },
  {
   "cell_type": "code",
   "execution_count": 26,
   "id": "ece68a4e-6745-4174-9f01-4ec6e3d4eaa3",
   "metadata": {},
   "outputs": [
    {
     "name": "stdout",
     "output_type": "stream",
     "text": [
      "[6 7 8]\n"
     ]
    }
   ],
   "source": [
    "import numpy as np\n",
    "print(a + 5)  "
   ]
  },
  {
   "cell_type": "markdown",
   "id": "4f2ba9a2-4719-403b-a644-f185d92cd25a",
   "metadata": {},
   "source": [
    "# Broadcasting with a 2D array"
   ]
  },
  {
   "cell_type": "code",
   "execution_count": 28,
   "id": "1d734376-f21a-4e80-9274-bc2bdd198727",
   "metadata": {},
   "outputs": [
    {
     "name": "stdout",
     "output_type": "stream",
     "text": [
      "[[2 3 4]\n",
      " [3 4 5]\n",
      " [4 5 6]]\n"
     ]
    }
   ],
   "source": [
    "import numpy as np\n",
    "b = np.array([[1], [2], [3]])  \n",
    "print(a + b)"
   ]
  },
  {
   "cell_type": "markdown",
   "id": "72370cc0-8975-4d34-b048-97e625d1973f",
   "metadata": {},
   "source": [
    "# Element wise operations and functions"
   ]
  },
  {
   "cell_type": "markdown",
   "id": "e514562b-09ed-4e8e-95a9-17132fa1de4a",
   "metadata": {},
   "source": [
    "* These operations apply a function to each element in the array."
   ]
  },
  {
   "cell_type": "code",
   "execution_count": 37,
   "id": "d174b782-14a4-4f13-8c73-ef898adb969f",
   "metadata": {},
   "outputs": [],
   "source": [
    "import numpy as np\n",
    "a = np.array([1, 4, 9, 16])\n",
    "\n",
    "\n"
   ]
  },
  {
   "cell_type": "markdown",
   "id": "ea77897b-d16e-4c66-9a64-0faf08b2cf59",
   "metadata": {},
   "source": [
    "# Square root"
   ]
  },
  {
   "cell_type": "code",
   "execution_count": 39,
   "id": "1281343c-4a8e-49b8-8ccb-de15a6e14ec9",
   "metadata": {},
   "outputs": [
    {
     "name": "stdout",
     "output_type": "stream",
     "text": [
      "[1. 2. 3. 4.]\n"
     ]
    }
   ],
   "source": [
    "print(np.sqrt(a))"
   ]
  },
  {
   "cell_type": "markdown",
   "id": "b5b1b9c3-9bd1-4e30-82f7-c287d864b20b",
   "metadata": {},
   "source": [
    "# Exponential"
   ]
  },
  {
   "cell_type": "code",
   "execution_count": 41,
   "id": "4b6d02d1-80b2-43a4-ae9e-646d759d0ffe",
   "metadata": {},
   "outputs": [
    {
     "name": "stdout",
     "output_type": "stream",
     "text": [
      "[2.71828183e+00 5.45981500e+01 8.10308393e+03 8.88611052e+06]\n"
     ]
    }
   ],
   "source": [
    "print(np.exp(a))"
   ]
  },
  {
   "cell_type": "markdown",
   "id": "fddd8ab5-bd81-4d54-9b21-8c2053dbad5e",
   "metadata": {},
   "source": [
    "# Trigonometric functions"
   ]
  },
  {
   "cell_type": "code",
   "execution_count": 43,
   "id": "9a55f26e-102c-4cca-837d-e9499311efbf",
   "metadata": {},
   "outputs": [
    {
     "name": "stdout",
     "output_type": "stream",
     "text": [
      "[0.0000000e+00 1.0000000e+00 1.2246468e-16]\n",
      "[ 1.000000e+00  6.123234e-17 -1.000000e+00]\n"
     ]
    }
   ],
   "source": [
    "angles = np.array([0, np.pi / 2, np.pi])\n",
    "print(np.sin(angles))  \n",
    "print(np.cos(angles))"
   ]
  },
  {
   "cell_type": "code",
   "execution_count": null,
   "id": "99cee75c-375b-4ec4-bb1e-78c5498d60c7",
   "metadata": {},
   "outputs": [],
   "source": []
  }
 ],
 "metadata": {
  "kernelspec": {
   "display_name": "Python 3 (ipykernel)",
   "language": "python",
   "name": "python3"
  },
  "language_info": {
   "codemirror_mode": {
    "name": "ipython",
    "version": 3
   },
   "file_extension": ".py",
   "mimetype": "text/x-python",
   "name": "python",
   "nbconvert_exporter": "python",
   "pygments_lexer": "ipython3",
   "version": "3.12.4"
  }
 },
 "nbformat": 4,
 "nbformat_minor": 5
}
