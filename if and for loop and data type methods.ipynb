{
 "cells": [
  {
   "cell_type": "markdown",
   "id": "7abaeef4-2025-47a0-b898-0a22cc60b241",
   "metadata": {},
   "source": [
    "# Swap First and Last elements of a list"
   ]
  },
  {
   "cell_type": "code",
   "execution_count": null,
   "id": "6a360389-163b-492c-b9d5-687f05235123",
   "metadata": {},
   "outputs": [],
   "source": [
    "* Logic:\n",
    "* Use indexing to access the first(list[0]) and last (list[-1])elements.\n",
    "* Swap them directly using tuple unpacking.\n",
    "* check if the list has at least two elements using an if condition."
   ]
  },
  {
   "cell_type": "code",
   "execution_count": 2,
   "id": "96dc2124-d903-4763-8103-ffe7405b280e",
   "metadata": {},
   "outputs": [
    {
     "name": "stdout",
     "output_type": "stream",
     "text": [
      "List after swapping: [5, 2, 3, 4, 1]\n"
     ]
    }
   ],
   "source": [
    "my_list=[1,2,3,4,5]\n",
    "if len(my_list)>1:\n",
    "    my_list[0],my_list[-1]=my_list[-1],my_list[0]\n",
    "    print(\"List after swapping:\",my_list)\n",
    "else:\n",
    "    print(\"List is too short to swap elements\")"
   ]
  },
  {
   "cell_type": "markdown",
   "id": "7e74fddd-c080-4b1d-9934-e92cb26308bf",
   "metadata": {},
   "source": [
    "# Count the length of a string"
   ]
  },
  {
   "cell_type": "code",
   "execution_count": null,
   "id": "7477dd02-8cf1-4312-a12e-8296ab86d973",
   "metadata": {},
   "outputs": [],
   "source": [
    "* Logic:\n",
    "* Use Python's built-in len() method to find the length of a string\n",
    "* optinally ,iterate over the string using a for loop to count characters manually."
   ]
  },
  {
   "cell_type": "code",
   "execution_count": 11,
   "id": "a85b8b26-7d24-4138-9ca6-0b3dd44d8bbc",
   "metadata": {},
   "outputs": [
    {
     "name": "stdout",
     "output_type": "stream",
     "text": [
      "Length of the string using len(): 13\n"
     ]
    }
   ],
   "source": [
    "my_string=\"Hello, world!\"\n",
    "\n",
    "# Using len()\n",
    "length=len(my_string)\n",
    "print(\"Length of the string using len():\",length)"
   ]
  },
  {
   "cell_type": "code",
   "execution_count": 9,
   "id": "9e055763-93c2-4cd0-a04b-4f73ba5a935f",
   "metadata": {},
   "outputs": [
    {
     "name": "stdout",
     "output_type": "stream",
     "text": [
      "Length of the string using a for loop: 1\n",
      "Length of the string using a for loop: 2\n",
      "Length of the string using a for loop: 3\n",
      "Length of the string using a for loop: 4\n",
      "Length of the string using a for loop: 5\n",
      "Length of the string using a for loop: 6\n",
      "Length of the string using a for loop: 7\n",
      "Length of the string using a for loop: 8\n",
      "Length of the string using a for loop: 9\n",
      "Length of the string using a for loop: 10\n",
      "Length of the string using a for loop: 11\n",
      "Length of the string using a for loop: 12\n",
      "Length of the string using a for loop: 13\n"
     ]
    }
   ],
   "source": [
    "my_string=\"Hello, world!\"\n",
    "\n",
    "# Using a for loop\n",
    "count=0\n",
    "for char in my_string:\n",
    "    count+=1\n",
    "    print(\"Length of the string using a for loop:\",count)"
   ]
  },
  {
   "cell_type": "markdown",
   "id": "f901a1bc-2162-4ece-86b4-2ce92b29a20f",
   "metadata": {},
   "source": [
    "# Sum of Non-negative integers in a list"
   ]
  },
  {
   "cell_type": "code",
   "execution_count": null,
   "id": "e4737ffa-012c-42ee-acb3-f9bbbeb266ce",
   "metadata": {},
   "outputs": [],
   "source": [
    "* Logic:\n",
    "* iterate through the list using a for loop.\n",
    "* Use an if condition to check if the number is non-negative(num>=0).\n",
    "* Add only non-negative numbers to a sum variable.\n",
    "                                  "
   ]
  },
  {
   "cell_type": "code",
   "execution_count": 14,
   "id": "be855208-0ff9-4dd4-a890-8be3291c2831",
   "metadata": {},
   "outputs": [
    {
     "name": "stdout",
     "output_type": "stream",
     "text": [
      "Sum of non-negative integers : 1\n",
      "Sum of non-negative integers : 5\n",
      "Sum of non-negative integers : 15\n"
     ]
    }
   ],
   "source": [
    "my_list=[1,4,-5,-20,10]\n",
    "non_negative_sum=0\n",
    "for num in my_list:\n",
    "    if num>=0:\n",
    "        non_negative_sum+=num\n",
    "        print(\"Sum of non-negative integers :\",non_negative_sum)"
   ]
  },
  {
   "cell_type": "markdown",
   "id": "e73a6231-61d2-4a58-9309-939c16c9a57b",
   "metadata": {},
   "source": [
    "# Factorial calculations"
   ]
  },
  {
   "cell_type": "code",
   "execution_count": null,
   "id": "63961b54-1836-4b56-89d6-a1cdbf92538c",
   "metadata": {},
   "outputs": [],
   "source": [
    "* Logic:\n",
    "* Factorial of a number n is the product of all integers from 1 to n.\n",
    "* Use a for loop to calculate the factorial iteratively.\n",
    "* Use an if condition to handle special cases(factorial(0)=1)"
   ]
  },
  {
   "cell_type": "code",
   "execution_count": 17,
   "id": "b64aedb7-2f3a-41d1-8461-ff73fade9134",
   "metadata": {},
   "outputs": [
    {
     "name": "stdout",
     "output_type": "stream",
     "text": [
      "Factorial of 3is 1\n",
      "Factorial of 3is 2\n",
      "Factorial of 3is 6\n"
     ]
    }
   ],
   "source": [
    "num=3\n",
    "if num<0:\n",
    "    print(\"Factorial is not defined for negative numbers.\")\n",
    "elif num==0:\n",
    "    print(\"Factorial of 0 is 1.\")\n",
    "else:\n",
    "    factorial=1\n",
    "    for i in range (1,num+1):\n",
    "        factorial*=i\n",
    "        print(f\"Factorial of {num}is {factorial}\")"
   ]
  },
  {
   "cell_type": "code",
   "execution_count": null,
   "id": "ee30b5b8-dfe8-4b1a-a2fb-632a88a19b2a",
   "metadata": {},
   "outputs": [],
   "source": []
  }
 ],
 "metadata": {
  "kernelspec": {
   "display_name": "Python 3 (ipykernel)",
   "language": "python",
   "name": "python3"
  },
  "language_info": {
   "codemirror_mode": {
    "name": "ipython",
    "version": 3
   },
   "file_extension": ".py",
   "mimetype": "text/x-python",
   "name": "python",
   "nbconvert_exporter": "python",
   "pygments_lexer": "ipython3",
   "version": "3.12.4"
  }
 },
 "nbformat": 4,
 "nbformat_minor": 5
}
