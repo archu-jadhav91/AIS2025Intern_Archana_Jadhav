{
 "cells": [
  {
   "cell_type": "code",
   "execution_count": null,
   "id": "c2f49275-0add-408f-a126-40ba95625f40",
   "metadata": {},
   "outputs": [],
   "source": [
    "* It allows you to execute a block of code repeatedly for a specified number of iterations."
   ]
  },
  {
   "cell_type": "markdown",
   "id": "26d75eba-d8a8-438d-b3be-5b2b5a9d4524",
   "metadata": {},
   "source": [
    "# print odd value between 20 and 80 without using if.Using for loop only."
   ]
  },
  {
   "cell_type": "code",
   "execution_count": 2,
   "id": "b16ee4e8-50e9-412f-9d25-ac8f020b47a9",
   "metadata": {},
   "outputs": [
    {
     "name": "stdout",
     "output_type": "stream",
     "text": [
      "21\n",
      "23\n",
      "25\n",
      "27\n",
      "29\n",
      "31\n",
      "33\n",
      "35\n",
      "37\n",
      "39\n",
      "41\n",
      "43\n",
      "45\n",
      "47\n",
      "49\n",
      "51\n",
      "53\n",
      "55\n",
      "57\n",
      "59\n",
      "61\n",
      "63\n",
      "65\n",
      "67\n",
      "69\n",
      "71\n",
      "73\n",
      "75\n",
      "77\n",
      "79\n"
     ]
    }
   ],
   "source": [
    "for i in range (21,81,2):\n",
    "    print(i)"
   ]
  },
  {
   "cell_type": "markdown",
   "id": "bc214c30-b06b-4cbb-8a0a-85284ba494e4",
   "metadata": {},
   "source": [
    "#  Create a list of 1 to 20 number using for loop [1,2,3...20]"
   ]
  },
  {
   "cell_type": "code",
   "execution_count": 7,
   "id": "e6fc2ac4-2d55-4fa4-af37-24aa1277efea",
   "metadata": {},
   "outputs": [
    {
     "name": "stdout",
     "output_type": "stream",
     "text": [
      "[1]\n",
      "[1, 2]\n",
      "[1, 2, 3]\n",
      "[1, 2, 3, 4]\n",
      "[1, 2, 3, 4, 5]\n",
      "[1, 2, 3, 4, 5, 6]\n",
      "[1, 2, 3, 4, 5, 6, 7]\n",
      "[1, 2, 3, 4, 5, 6, 7, 8]\n",
      "[1, 2, 3, 4, 5, 6, 7, 8, 9]\n",
      "[1, 2, 3, 4, 5, 6, 7, 8, 9, 10]\n",
      "[1, 2, 3, 4, 5, 6, 7, 8, 9, 10, 11]\n",
      "[1, 2, 3, 4, 5, 6, 7, 8, 9, 10, 11, 12]\n",
      "[1, 2, 3, 4, 5, 6, 7, 8, 9, 10, 11, 12, 13]\n",
      "[1, 2, 3, 4, 5, 6, 7, 8, 9, 10, 11, 12, 13, 14]\n",
      "[1, 2, 3, 4, 5, 6, 7, 8, 9, 10, 11, 12, 13, 14, 15]\n",
      "[1, 2, 3, 4, 5, 6, 7, 8, 9, 10, 11, 12, 13, 14, 15, 16]\n",
      "[1, 2, 3, 4, 5, 6, 7, 8, 9, 10, 11, 12, 13, 14, 15, 16, 17]\n",
      "[1, 2, 3, 4, 5, 6, 7, 8, 9, 10, 11, 12, 13, 14, 15, 16, 17, 18]\n",
      "[1, 2, 3, 4, 5, 6, 7, 8, 9, 10, 11, 12, 13, 14, 15, 16, 17, 18, 19]\n",
      "[1, 2, 3, 4, 5, 6, 7, 8, 9, 10, 11, 12, 13, 14, 15, 16, 17, 18, 19, 20]\n"
     ]
    }
   ],
   "source": [
    "numbers=[]\n",
    "for i in range (1,21):\n",
    "    numbers.append(i)\n",
    "    print(numbers)"
   ]
  },
  {
   "cell_type": "markdown",
   "id": "46304d38-0db0-4c59-bf18-58b182176711",
   "metadata": {},
   "source": [
    "# Create a list of numbers from 20 to 1 without using reverse"
   ]
  },
  {
   "cell_type": "code",
   "execution_count": 10,
   "id": "f28c2048-b4ce-4244-99ac-ca0c72c82a16",
   "metadata": {},
   "outputs": [
    {
     "name": "stdout",
     "output_type": "stream",
     "text": [
      "[20]\n",
      "[20, 19]\n",
      "[20, 19, 18]\n",
      "[20, 19, 18, 17]\n",
      "[20, 19, 18, 17, 16]\n",
      "[20, 19, 18, 17, 16, 15]\n",
      "[20, 19, 18, 17, 16, 15, 14]\n",
      "[20, 19, 18, 17, 16, 15, 14, 13]\n",
      "[20, 19, 18, 17, 16, 15, 14, 13, 12]\n",
      "[20, 19, 18, 17, 16, 15, 14, 13, 12, 11]\n",
      "[20, 19, 18, 17, 16, 15, 14, 13, 12, 11, 10]\n",
      "[20, 19, 18, 17, 16, 15, 14, 13, 12, 11, 10, 9]\n",
      "[20, 19, 18, 17, 16, 15, 14, 13, 12, 11, 10, 9, 8]\n",
      "[20, 19, 18, 17, 16, 15, 14, 13, 12, 11, 10, 9, 8, 7]\n",
      "[20, 19, 18, 17, 16, 15, 14, 13, 12, 11, 10, 9, 8, 7, 6]\n",
      "[20, 19, 18, 17, 16, 15, 14, 13, 12, 11, 10, 9, 8, 7, 6, 5]\n",
      "[20, 19, 18, 17, 16, 15, 14, 13, 12, 11, 10, 9, 8, 7, 6, 5, 4]\n",
      "[20, 19, 18, 17, 16, 15, 14, 13, 12, 11, 10, 9, 8, 7, 6, 5, 4, 3]\n",
      "[20, 19, 18, 17, 16, 15, 14, 13, 12, 11, 10, 9, 8, 7, 6, 5, 4, 3, 2]\n",
      "[20, 19, 18, 17, 16, 15, 14, 13, 12, 11, 10, 9, 8, 7, 6, 5, 4, 3, 2, 1]\n"
     ]
    }
   ],
   "source": [
    "numbers=[]\n",
    "for i in range(20,0,-1):\n",
    "    numbers.append(i)\n",
    "    print(numbers)"
   ]
  },
  {
   "cell_type": "markdown",
   "id": "abcc2a19-1144-415e-8eee-99d233de3ee4",
   "metadata": {},
   "source": [
    "# Take a cube of odd values between 20 and 40"
   ]
  },
  {
   "cell_type": "code",
   "execution_count": 13,
   "id": "a4a28a78-0fd2-4479-bf19-dbd53c097e7c",
   "metadata": {},
   "outputs": [
    {
     "name": "stdout",
     "output_type": "stream",
     "text": [
      "The cube of 21is 9261\n",
      "The cube of 23is 12167\n",
      "The cube of 25is 15625\n",
      "The cube of 27is 19683\n",
      "The cube of 29is 24389\n",
      "The cube of 31is 29791\n",
      "The cube of 33is 35937\n",
      "The cube of 35is 42875\n",
      "The cube of 37is 50653\n",
      "The cube of 39is 59319\n"
     ]
    }
   ],
   "source": [
    "for i in range (21,41,2):\n",
    "    print(f\"The cube of {i}is {i**3}\")"
   ]
  },
  {
   "cell_type": "markdown",
   "id": "ce600955-f92d-4c54-9f02-f40f5508ddda",
   "metadata": {},
   "source": [
    "# Display friends name and ages"
   ]
  },
  {
   "cell_type": "code",
   "execution_count": 19,
   "id": "78de4a82-8865-4a4c-8dd8-b86006f7dfde",
   "metadata": {},
   "outputs": [
    {
     "name": "stdout",
     "output_type": "stream",
     "text": [
      "My names is a,my age is 20\n",
      "My names is b,my age is 21\n",
      "My names is c,my age is 23\n",
      "My names is d,my age is 25\n",
      "My names is e,my age is 24\n"
     ]
    }
   ],
   "source": [
    "names=['a','b','c','d','e']\n",
    "ages=[20,21,23,25,24]\n",
    "for i in range(len(names)):\n",
    "    print(f\"My names is {names[i]},my age is {ages[i]}\")"
   ]
  },
  {
   "cell_type": "code",
   "execution_count": null,
   "id": "2e71894f-125a-41e0-bba0-c5ee34707202",
   "metadata": {},
   "outputs": [],
   "source": []
  },
  {
   "cell_type": "code",
   "execution_count": null,
   "id": "b4090b2f-9ece-4b9b-a702-9169d5a0762a",
   "metadata": {},
   "outputs": [],
   "source": []
  }
 ],
 "metadata": {
  "kernelspec": {
   "display_name": "Python 3 (ipykernel)",
   "language": "python",
   "name": "python3"
  },
  "language_info": {
   "codemirror_mode": {
    "name": "ipython",
    "version": 3
   },
   "file_extension": ".py",
   "mimetype": "text/x-python",
   "name": "python",
   "nbconvert_exporter": "python",
   "pygments_lexer": "ipython3",
   "version": "3.12.4"
  }
 },
 "nbformat": 4,
 "nbformat_minor": 5
}
