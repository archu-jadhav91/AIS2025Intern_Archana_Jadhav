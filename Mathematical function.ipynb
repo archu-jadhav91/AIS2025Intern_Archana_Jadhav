{
 "cells": [
  {
   "cell_type": "markdown",
   "id": "ddf4332e-2c96-468a-942f-b5d61ce1b286",
   "metadata": {},
   "source": [
    "# Mathematical function :"
   ]
  },
  {
   "cell_type": "markdown",
   "id": "51a061b0-cc7c-41fd-aa8a-69b9e3c8703a",
   "metadata": {},
   "source": [
    "# Universal Function :"
   ]
  },
  {
   "cell_type": "markdown",
   "id": "d5684870-0099-4415-9e51-c7e3311be70d",
   "metadata": {},
   "source": [
    "* Universal functions are NumPy's element-wise functions. They operate on each element of an array independently and support broadcasting."
   ]
  },
  {
   "cell_type": "markdown",
   "id": "7f1fe394-3ef6-4111-a7d6-936064b503b1",
   "metadata": {},
   "source": [
    "* np.add(x, y) → Element-wise addition.\n",
    "* np.subtract(x, y) → Element-wise subtraction.\n",
    "* np.multiply(x, y) → Element-wise multiplication.\n",
    "* np.divide(x, y) → Element-wise division."
   ]
  },
  {
   "cell_type": "markdown",
   "id": "02184873-7c8c-4fdf-b92f-191c7bcbfd0d",
   "metadata": {},
   "source": [
    "# np.add(x,y) :"
   ]
  },
  {
   "cell_type": "code",
   "execution_count": 6,
   "id": "90b16eed-e22e-475b-8216-abfda5cb9eb5",
   "metadata": {},
   "outputs": [
    {
     "name": "stdout",
     "output_type": "stream",
     "text": [
      "[ 5  7  9 11]\n"
     ]
    }
   ],
   "source": [
    "import numpy as np\n",
    "\n",
    "x = [1, 2, 3, 4]\n",
    "y = [4, 5, 6, 7]\n",
    "z = np.add(x, y)\n",
    "print(z)\n"
   ]
  },
  {
   "cell_type": "markdown",
   "id": "9263b406-0b47-4d33-9b92-43d952755164",
   "metadata": {},
   "source": [
    "# np.substract(x,y) :"
   ]
  },
  {
   "cell_type": "code",
   "execution_count": 13,
   "id": "7c8cc3eb-1ded-4cfc-bd5a-87e6eb73511b",
   "metadata": {},
   "outputs": [
    {
     "name": "stdout",
     "output_type": "stream",
     "text": [
      "[-3 -3 -3 -3]\n"
     ]
    }
   ],
   "source": [
    "import numpy as np\n",
    "\n",
    "x = [1, 2, 3, 4]\n",
    "y = [4, 5, 6, 7]\n",
    "z = np.subtract(x, y) \n",
    "print(z)\n"
   ]
  },
  {
   "cell_type": "markdown",
   "id": "fb1714f0-4aff-4844-9a12-fd562c0fec9f",
   "metadata": {},
   "source": [
    "# np.multiplication(x,y)"
   ]
  },
  {
   "cell_type": "code",
   "execution_count": 16,
   "id": "c6217fbb-5b54-4075-92c5-2d24acac5f4d",
   "metadata": {},
   "outputs": [
    {
     "name": "stdout",
     "output_type": "stream",
     "text": [
      "[ 4 10 18 28]\n"
     ]
    }
   ],
   "source": [
    "import numpy as np\n",
    "\n",
    "x = [1, 2, 3, 4]\n",
    "y = [4, 5, 6, 7]\n",
    "z = np.multiply(x, y)  \n",
    "print(z)\n"
   ]
  },
  {
   "cell_type": "markdown",
   "id": "54488551-ca8d-4fad-bc17-bbab35571708",
   "metadata": {},
   "source": [
    "# np.divide(x,y)"
   ]
  },
  {
   "cell_type": "code",
   "execution_count": 19,
   "id": "ab4c494e-cfdf-4d38-8992-f5ae7d341777",
   "metadata": {},
   "outputs": [
    {
     "name": "stdout",
     "output_type": "stream",
     "text": [
      "[0.25       0.4        0.5        0.57142857]\n"
     ]
    }
   ],
   "source": [
    "import numpy as np\n",
    "\n",
    "x = [1, 2, 3, 4]\n",
    "y = [4, 5, 6, 7]\n",
    "z = np.divide(x, y)  \n",
    "print(z)\n"
   ]
  },
  {
   "cell_type": "markdown",
   "id": "fd2d6dc1-ddea-4e56-9e86-f677b8c04303",
   "metadata": {},
   "source": [
    "# Statistical function :"
   ]
  },
  {
   "cell_type": "markdown",
   "id": "1f5e5db0-0704-4863-a332-cb1a98f0777b",
   "metadata": {},
   "source": [
    "# np.mean () :"
   ]
  },
  {
   "cell_type": "markdown",
   "id": "5e970e02-16ae-4bfc-9e7f-2f4b5a11313f",
   "metadata": {},
   "source": [
    "* Computes the arithmetic mean (average) of the elements in the array."
   ]
  },
  {
   "cell_type": "code",
   "execution_count": 24,
   "id": "cdddf60b-01b7-4177-a995-ec5ff05dc03f",
   "metadata": {},
   "outputs": [
    {
     "name": "stdout",
     "output_type": "stream",
     "text": [
      "Mean: 3.0\n"
     ]
    }
   ],
   "source": [
    "import numpy as np\n",
    "data = np.array([1, 2, 3, 4, 5])\n",
    "mean_value = np.mean(data)\n",
    "print(\"Mean:\", mean_value) \n"
   ]
  },
  {
   "cell_type": "markdown",
   "id": "d2306b37-44e6-49de-847b-39caa78276e1",
   "metadata": {},
   "source": [
    "# np.median() :"
   ]
  },
  {
   "cell_type": "markdown",
   "id": "37bcd6d5-6af9-4eb4-915a-bfef5f1e084e",
   "metadata": {},
   "source": [
    "* Computes the median (middle value) of the elements in the array."
   ]
  },
  {
   "cell_type": "code",
   "execution_count": 30,
   "id": "70926be9-050d-49b1-9b53-0a216dc0750d",
   "metadata": {},
   "outputs": [
    {
     "name": "stdout",
     "output_type": "stream",
     "text": [
      "Median: 3.0\n"
     ]
    }
   ],
   "source": [
    "import numpy as np\n",
    "data = np.array([1, 2, 3, 4, 5])\n",
    "median_value = np.median(data)\n",
    "print(\"Median:\", median_value) \n"
   ]
  },
  {
   "cell_type": "markdown",
   "id": "a792cdd1-6f49-4126-98d6-86bdeca20ad6",
   "metadata": {},
   "source": [
    "# np.std() :"
   ]
  },
  {
   "cell_type": "markdown",
   "id": "ae8bf5fc-e83c-4681-9784-551910f876c1",
   "metadata": {},
   "source": [
    "* Computes the standard deviation, a measure of how spread out the data is."
   ]
  },
  {
   "cell_type": "code",
   "execution_count": 34,
   "id": "01ce488f-ec89-413b-a90e-07069176efe2",
   "metadata": {},
   "outputs": [
    {
     "name": "stdout",
     "output_type": "stream",
     "text": [
      "Standard Deviation: 1.4142135623730951\n"
     ]
    }
   ],
   "source": [
    "data = np.array([1, 2, 3, 4, 5])\n",
    "std_value = np.std(data)\n",
    "print(\"Standard Deviation:\", std_value)\n"
   ]
  },
  {
   "cell_type": "markdown",
   "id": "694ae07c-d51d-4ebf-ae8a-3d4576250864",
   "metadata": {},
   "source": [
    "# np.var() :"
   ]
  },
  {
   "cell_type": "markdown",
   "id": "1a26078b-b644-4336-b8f2-108e5ef75d52",
   "metadata": {},
   "source": [
    "* Computes the variance, which is the square of the standard deviation. It measures the average squared deviation from the mean."
   ]
  },
  {
   "cell_type": "code",
   "execution_count": 38,
   "id": "cc63337a-f233-4e09-92fb-a293ac44eb6d",
   "metadata": {},
   "outputs": [
    {
     "name": "stdout",
     "output_type": "stream",
     "text": [
      "Variance: 2.0\n"
     ]
    }
   ],
   "source": [
    "data = np.array([1, 2, 3, 4, 5])\n",
    "variance_value = np.var(data)\n",
    "print(\"Variance:\", variance_value)\n"
   ]
  },
  {
   "cell_type": "markdown",
   "id": "c2e591ef-67a3-4e97-8474-34d17bf28bf6",
   "metadata": {},
   "source": [
    "# np.min() :"
   ]
  },
  {
   "cell_type": "markdown",
   "id": "9fac20be-6e26-4969-b7c8-c3392228e67a",
   "metadata": {},
   "source": [
    "* Returns the smallest element in the array."
   ]
  },
  {
   "cell_type": "code",
   "execution_count": 42,
   "id": "b7947f36-e586-429b-bc92-d49f4fb428be",
   "metadata": {},
   "outputs": [
    {
     "name": "stdout",
     "output_type": "stream",
     "text": [
      "Minimum: 10\n"
     ]
    }
   ],
   "source": [
    "import numpy as np\n",
    "data = np.array([10, 20, 30, 40, 50])\n",
    "minimum_value=np.min(data)\n",
    "print(\"Minimum:\",minimum_value)"
   ]
  },
  {
   "cell_type": "markdown",
   "id": "f1d7f219-36d3-456b-85c8-283b43f9ac95",
   "metadata": {},
   "source": [
    "# np.max() :"
   ]
  },
  {
   "cell_type": "markdown",
   "id": "2f9a0d83-b397-4a76-a2f7-75d96e8d2c85",
   "metadata": {},
   "source": [
    "* Returns the largest element in the array."
   ]
  },
  {
   "cell_type": "code",
   "execution_count": 45,
   "id": "2392627e-916f-4d48-9abb-93058c754854",
   "metadata": {},
   "outputs": [
    {
     "name": "stdout",
     "output_type": "stream",
     "text": [
      "Maximum: 50\n"
     ]
    }
   ],
   "source": [
    "import numpy as np\n",
    "data = np.array([10, 20, 30, 40, 50])\n",
    "maximum_value=np.max(data)\n",
    "print(\"Maximum:\",maximum_value)"
   ]
  },
  {
   "cell_type": "markdown",
   "id": "d88a1fc1-3733-4085-8426-38ba9d01e4db",
   "metadata": {},
   "source": [
    "# Linear algebra function :"
   ]
  },
  {
   "cell_type": "markdown",
   "id": "95fa09e7-a521-40ff-b9d9-8a3c93a31cd2",
   "metadata": {},
   "source": [
    "# np.dot() :"
   ]
  },
  {
   "cell_type": "markdown",
   "id": "396c7180-4894-49ca-81ce-6f473d644eaa",
   "metadata": {},
   "source": [
    "* Computes the dot product of two arrays."
   ]
  },
  {
   "cell_type": "markdown",
   "id": "4b2b735a-50e0-4210-a1ef-bdf8b5429272",
   "metadata": {},
   "source": [
    "# Dot product of 1-D arrays :"
   ]
  },
  {
   "cell_type": "code",
   "execution_count": 52,
   "id": "b9bf881e-8d1d-4acd-a999-7860422cfce3",
   "metadata": {},
   "outputs": [
    {
     "name": "stdout",
     "output_type": "stream",
     "text": [
      "Dot product of 1D arrays: 32\n"
     ]
    }
   ],
   "source": [
    "a = np.array([1, 2, 3])\n",
    "b = np.array([4, 5, 6])\n",
    "dot_1d = np.dot(a, b)\n",
    "print(\"Dot product of 1D arrays:\", dot_1d)"
   ]
  },
  {
   "cell_type": "markdown",
   "id": "0c2374cd-2946-41c5-8d81-9f88a6c85cb2",
   "metadata": {},
   "source": [
    "# np.matmul() :"
   ]
  },
  {
   "cell_type": "markdown",
   "id": "d29134a0-6cd2-4ebb-a128-0a0a0e2c3d54",
   "metadata": {},
   "source": [
    "* Performs matrix multiplication. Unlike np.dot(), it doesn’t handle the scalar dot product for 1D arrays."
   ]
  },
  {
   "cell_type": "markdown",
   "id": "d1425724-9bed-4cbc-a003-aa7b062b02f6",
   "metadata": {},
   "source": [
    "# 2D arrays matrix multiplication :"
   ]
  },
  {
   "cell_type": "code",
   "execution_count": 58,
   "id": "986e90c8-47f4-429d-9153-d3d3d8faf0b4",
   "metadata": {},
   "outputs": [
    {
     "name": "stdout",
     "output_type": "stream",
     "text": [
      "Matrix Multiplication (matmul):\n",
      " [[19 22]\n",
      " [43 50]]\n"
     ]
    }
   ],
   "source": [
    "A = np.array([[1, 2],\n",
    "              [3, 4]])\n",
    "B = np.array([[5, 6],\n",
    "              [7, 8]])\n",
    "\n",
    "matmul_result = np.matmul(A, B)\n",
    "print(\"Matrix Multiplication (matmul):\\n\", matmul_result)"
   ]
  },
  {
   "cell_type": "markdown",
   "id": "de713a42-dab1-47ce-8085-7fef1ec923df",
   "metadata": {},
   "source": [
    "# np.linalg.inv() :"
   ]
  },
  {
   "cell_type": "markdown",
   "id": "8d6e99b5-7e8f-4d01-bd8b-975a5f8b8207",
   "metadata": {},
   "source": [
    "* Computes the inverse of a square matrix."
   ]
  },
  {
   "cell_type": "code",
   "execution_count": 63,
   "id": "eb85e42c-83e0-4fd2-989c-25b0feff8583",
   "metadata": {},
   "outputs": [
    {
     "name": "stdout",
     "output_type": "stream",
     "text": [
      "Inverse of the matrix:\n",
      " [[ 0.6 -0.7]\n",
      " [-0.2  0.4]]\n"
     ]
    }
   ],
   "source": [
    "matrix = np.array([[4, 7], \n",
    "                   [2, 6]])\n",
    "inverse_matrix = np.linalg.inv(matrix)\n",
    "print(\"Inverse of the matrix:\\n\", inverse_matrix)"
   ]
  },
  {
   "cell_type": "markdown",
   "id": "3c30e26b-ff42-4ef6-876e-2940e5108b47",
   "metadata": {},
   "source": [
    "# np.linalg.eig() :"
   ]
  },
  {
   "cell_type": "markdown",
   "id": "6112c934-cbe5-46db-ba23-722afc23194b",
   "metadata": {},
   "source": [
    "* Computes the eigenvalues and eigenvectors of a square matrix."
   ]
  },
  {
   "cell_type": "code",
   "execution_count": 67,
   "id": "5ab9948e-66b9-4e44-8bc5-468b718c2c51",
   "metadata": {},
   "outputs": [
    {
     "name": "stdout",
     "output_type": "stream",
     "text": [
      "Eigenvalues: [3. 2.]\n",
      "Eigenvectors:\n",
      " [[0.89442719 0.70710678]\n",
      " [0.4472136  0.70710678]]\n"
     ]
    }
   ],
   "source": [
    "\n",
    "matrix = np.array([[4, -2], \n",
    "                   [1, 1]])\n",
    "eigenvalues, eigenvectors = np.linalg.eig(matrix)\n",
    "print(\"Eigenvalues:\", eigenvalues)\n",
    "print(\"Eigenvectors:\\n\", eigenvectors)\n",
    "\n"
   ]
  },
  {
   "cell_type": "code",
   "execution_count": null,
   "id": "6551c635-6786-4f1a-b278-20d8b9f31333",
   "metadata": {},
   "outputs": [],
   "source": []
  }
 ],
 "metadata": {
  "kernelspec": {
   "display_name": "Python 3 (ipykernel)",
   "language": "python",
   "name": "python3"
  },
  "language_info": {
   "codemirror_mode": {
    "name": "ipython",
    "version": 3
   },
   "file_extension": ".py",
   "mimetype": "text/x-python",
   "name": "python",
   "nbconvert_exporter": "python",
   "pygments_lexer": "ipython3",
   "version": "3.12.4"
  }
 },
 "nbformat": 4,
 "nbformat_minor": 5
}
