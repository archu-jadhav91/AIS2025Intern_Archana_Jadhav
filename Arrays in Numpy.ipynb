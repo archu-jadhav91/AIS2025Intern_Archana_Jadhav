{
 "cells": [
  {
   "cell_type": "markdown",
   "id": "cec16be0-1d3c-4472-a74c-740d4d094336",
   "metadata": {},
   "source": [
    "# Arrays in Numpy"
   ]
  },
  {
   "cell_type": "markdown",
   "id": "b0236a85-1208-418f-8ff0-c6e14b89717e",
   "metadata": {},
   "source": [
    "# nd arrray (N-dimensional array )"
   ]
  },
  {
   "cell_type": "markdown",
   "id": "91741b7e-7fa9-4137-82ce-c48303253877",
   "metadata": {},
   "source": [
    "* Core object in NumPy is the ndarray, representing N-dimensional arrays.\n",
    "* Arrays are more efficient than Python lists due to contiguous memory allocation."
   ]
  },
  {
   "cell_type": "markdown",
   "id": "e663f4e6-bdf8-4d8d-99b5-cab38541409b",
   "metadata": {},
   "source": [
    "# Creating arrays"
   ]
  },
  {
   "cell_type": "markdown",
   "id": "5641b14d-1f43-42f9-973d-21408b517eb5",
   "metadata": {},
   "source": [
    "* np.arrays() : From a python list or tuple."
   ]
  },
  {
   "cell_type": "code",
   "execution_count": 1,
   "id": "cd550c8a-0ed6-4e24-8b0a-0ff8c61fc7c9",
   "metadata": {},
   "outputs": [],
   "source": [
    "import numpy as np\n",
    "a = np.array([1, 2, 3])"
   ]
  },
  {
   "cell_type": "markdown",
   "id": "48b4c8d0-f462-456d-a4eb-5fbe33740a81",
   "metadata": {},
   "source": [
    "# np.zeros()"
   ]
  },
  {
   "cell_type": "markdown",
   "id": "63fadd98-647d-45e4-852c-b6c450fe67c5",
   "metadata": {},
   "source": [
    "* np.zeros() : arrays filled with zeros."
   ]
  },
  {
   "cell_type": "code",
   "execution_count": 25,
   "id": "3b5fb9b8-a10b-454d-abdf-ff1b37dc5212",
   "metadata": {},
   "outputs": [
    {
     "name": "stdout",
     "output_type": "stream",
     "text": [
      "[0. 0. 0. 0. 0. 0. 0. 0. 0. 0.]\n"
     ]
    }
   ],
   "source": [
    "arr_zeros = np.zeros(10)\n",
    "print(arr_zeros)\n",
    "\n",
    "\n"
   ]
  },
  {
   "cell_type": "markdown",
   "id": "eddf20af-d5ee-46e0-a8f5-e341fa26832e",
   "metadata": {},
   "source": [
    "# np.ones()"
   ]
  },
  {
   "cell_type": "markdown",
   "id": "6327afc3-0e87-4cb3-a200-11fb87baeb0b",
   "metadata": {},
   "source": [
    "* np.ones() : Array filled with ones."
   ]
  },
  {
   "cell_type": "code",
   "execution_count": 27,
   "id": "a5f88aa2-609e-44b6-8749-afa784baa522",
   "metadata": {},
   "outputs": [
    {
     "name": "stdout",
     "output_type": "stream",
     "text": [
      "[1. 1. 1. 1. 1. 1. 1. 1. 1. 1.]\n"
     ]
    }
   ],
   "source": [
    "arr_ones = np.ones(10)\n",
    "print(arr_ones)\n",
    "\n"
   ]
  },
  {
   "cell_type": "markdown",
   "id": "f78471ac-f3ca-4ba1-8cda-3b18848ffe42",
   "metadata": {},
   "source": [
    "# np.arange()"
   ]
  },
  {
   "cell_type": "markdown",
   "id": "3f98de66-8484-4eed-af7f-b18bfe26d15e",
   "metadata": {},
   "source": [
    "* Creates an array with evenly spaced values within a given range."
   ]
  },
  {
   "cell_type": "code",
   "execution_count": 29,
   "id": "8751ca58-1c0d-449a-a10e-3690777e58a1",
   "metadata": {},
   "outputs": [
    {
     "name": "stdout",
     "output_type": "stream",
     "text": [
      "[0 1 2 3 4 5 6 7 8 9]\n"
     ]
    }
   ],
   "source": [
    "arr_range = np.arange(10)\n",
    "print(arr_range)\n",
    "\n"
   ]
  },
  {
   "cell_type": "markdown",
   "id": "f16699ab-886b-4e57-9ec5-8931e4a491e6",
   "metadata": {},
   "source": [
    "# np.linspace()"
   ]
  },
  {
   "cell_type": "markdown",
   "id": "7efb8b95-10d9-443b-b0a9-4d7ce63913d5",
   "metadata": {},
   "source": [
    "* Creates an array with evenly spaced numbers over a specified interval."
   ]
  },
  {
   "cell_type": "code",
   "execution_count": null,
   "id": "512fb0dc-0ed1-4b1a-8c70-928d4c958a89",
   "metadata": {},
   "outputs": [],
   "source": [
    "# Creating 5 Evenly Spaced Numbers Between 1 and 10"
   ]
  },
  {
   "cell_type": "code",
   "execution_count": 31,
   "id": "9b2f2016-f80d-4f49-a633-3adb1c74936b",
   "metadata": {},
   "outputs": [
    {
     "name": "stdout",
     "output_type": "stream",
     "text": [
      "[ 1.    3.25  5.5   7.75 10.  ]\n"
     ]
    }
   ],
   "source": [
    "arr_linspace = np.linspace(1, 10, 5)\n",
    "print(arr_linspace)\n",
    "\n"
   ]
  },
  {
   "cell_type": "markdown",
   "id": "f4c9db3a-808f-42a1-885f-ef54fb778bbf",
   "metadata": {},
   "source": [
    "# Array indexing and slicing :"
   ]
  },
  {
   "cell_type": "markdown",
   "id": "286061a3-6db4-43d8-b9bf-85d74f720016",
   "metadata": {},
   "source": [
    "* NumPy allows powerful indexing and slicing to access and modify array elements."
   ]
  },
  {
   "cell_type": "markdown",
   "id": "b42efb48-0468-4ab2-8388-0d4e3cf9d75e",
   "metadata": {},
   "source": [
    " # Indexing (Accessing Elements)"
   ]
  },
  {
   "cell_type": "code",
   "execution_count": 4,
   "id": "e8f3f3bd-582c-46da-be45-95a240493b40",
   "metadata": {},
   "outputs": [
    {
     "name": "stdout",
     "output_type": "stream",
     "text": [
      "10\n",
      "50\n"
     ]
    }
   ],
   "source": [
    "import numpy as np\n",
    "arr = np.array([10, 20, 30, 40, 50])\n",
    "print(arr[0])  \n",
    "print(arr[-1])  \n"
   ]
  },
  {
   "cell_type": "code",
   "execution_count": null,
   "id": "8052ba91-a7b9-4c3f-aac6-3696760de434",
   "metadata": {},
   "outputs": [],
   "source": [
    "# For multidimensional arrays"
   ]
  },
  {
   "cell_type": "code",
   "execution_count": 11,
   "id": "56053d5b-d711-42b1-bf94-cffb6839cd54",
   "metadata": {},
   "outputs": [
    {
     "name": "stdout",
     "output_type": "stream",
     "text": [
      "2\n"
     ]
    }
   ],
   "source": [
    "arr_2d = np.array([[1, 2, 3], [4, 5, 6]])\n",
    "print(arr_2d[0, 1])  # Row 0, Column 1\n"
   ]
  },
  {
   "cell_type": "markdown",
   "id": "0b67ddf5-d4d8-47c4-84b0-2f839755d729",
   "metadata": {},
   "source": [
    "# Slicing (Extracting Subarrays)"
   ]
  },
  {
   "cell_type": "markdown",
   "id": "15a1d0cc-68e4-44e1-8eee-039655130f3a",
   "metadata": {},
   "source": [
    "* Slicing follows the start:stop:step pattern."
   ]
  },
  {
   "cell_type": "code",
   "execution_count": 6,
   "id": "0252f05b-f7ab-4f05-9182-ae64c678cd75",
   "metadata": {},
   "outputs": [
    {
     "name": "stdout",
     "output_type": "stream",
     "text": [
      "[20 30 40]\n",
      "[10 20 30]\n",
      "[10 30 50]\n"
     ]
    }
   ],
   "source": [
    "arr = np.array([10, 20, 30, 40, 50, 60])\n",
    "print(arr[1:4])  # Elements from index 1 to 3 (20, 30, 40)\n",
    "print(arr[:3])   # First three elements\n",
    "print(arr[::2])  # Every second element\n"
   ]
  },
  {
   "cell_type": "code",
   "execution_count": null,
   "id": "f2334410-ba5b-49fc-9c14-11a3462693a5",
   "metadata": {},
   "outputs": [],
   "source": [
    "# For multidimensional arrays"
   ]
  },
  {
   "cell_type": "code",
   "execution_count": 9,
   "id": "981222a7-490a-4aa6-896f-05d04b603b8f",
   "metadata": {},
   "outputs": [
    {
     "name": "stdout",
     "output_type": "stream",
     "text": [
      "[2 5 8]\n",
      "[[4 5]\n",
      " [7 8]]\n"
     ]
    }
   ],
   "source": [
    "arr_2d = np.array([[1, 2, 3], [4, 5, 6], [7, 8, 9]])\n",
    "print(arr_2d[:, 1])  # Second column\n",
    "print(arr_2d[1:, :2])  # Bottom two rows, first two columns\n"
   ]
  }
 ],
 "metadata": {
  "kernelspec": {
   "display_name": "Python 3 (ipykernel)",
   "language": "python",
   "name": "python3"
  },
  "language_info": {
   "codemirror_mode": {
    "name": "ipython",
    "version": 3
   },
   "file_extension": ".py",
   "mimetype": "text/x-python",
   "name": "python",
   "nbconvert_exporter": "python",
   "pygments_lexer": "ipython3",
   "version": "3.12.4"
  }
 },
 "nbformat": 4,
 "nbformat_minor": 5
}
