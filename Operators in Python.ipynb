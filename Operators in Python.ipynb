{
 "cells": [
  {
   "cell_type": "markdown",
   "id": "6faa7a6a-af93-40f8-bbe9-a90f778226c0",
   "metadata": {},
   "source": [
    "# Arithmatic Operators"
   ]
  },
  {
   "cell_type": "markdown",
   "id": "c8119656-3eba-4b7c-9aa1-737558536bf4",
   "metadata": {},
   "source": [
    "a=10\n",
    "b=20"
   ]
  },
  {
   "cell_type": "code",
   "execution_count": null,
   "id": "3d4bb19e-5963-42db-8909-c70465d67da0",
   "metadata": {},
   "outputs": [],
   "source": [
    "a=10\n",
    "b=20"
   ]
  },
  {
   "cell_type": "markdown",
   "id": "7ce2ab03-1aff-4894-be03-30db877f286c",
   "metadata": {},
   "source": [
    "# Addition"
   ]
  },
  {
   "cell_type": "code",
   "execution_count": 22,
   "id": "304c6c38-a2a4-4012-ae3a-ea8657a5e722",
   "metadata": {},
   "outputs": [
    {
     "name": "stdout",
     "output_type": "stream",
     "text": [
      "addition: 30\n"
     ]
    }
   ],
   "source": [
    "print(\"addition:\",a+b)"
   ]
  },
  {
   "cell_type": "markdown",
   "id": "b7fcd80c-5aff-4fd2-8921-82e35212e0b4",
   "metadata": {},
   "source": [
    "# Substraction"
   ]
  },
  {
   "cell_type": "code",
   "execution_count": 25,
   "id": "f63ab520-8335-48da-9842-362b3eee9df5",
   "metadata": {},
   "outputs": [
    {
     "name": "stdout",
     "output_type": "stream",
     "text": [
      "substraction: -10\n"
     ]
    }
   ],
   "source": [
    "print(\"substraction:\",a-b)"
   ]
  },
  {
   "cell_type": "markdown",
   "id": "7492e8ed-c562-4eaa-9eaa-dd9ae547edf9",
   "metadata": {},
   "source": [
    "# Multiplication\n"
   ]
  },
  {
   "cell_type": "code",
   "execution_count": 29,
   "id": "03f4b053-dce1-4160-bbe1-d032a62c3c99",
   "metadata": {},
   "outputs": [
    {
     "name": "stdout",
     "output_type": "stream",
     "text": [
      "multiplication: 200\n"
     ]
    }
   ],
   "source": [
    "print(\"multiplication:\",a*b)"
   ]
  },
  {
   "cell_type": "markdown",
   "id": "9091092d-b4d4-483e-9a2e-125470c05f9f",
   "metadata": {},
   "source": [
    "# Division"
   ]
  },
  {
   "cell_type": "code",
   "execution_count": 33,
   "id": "dfd9e9a7-0074-416c-a8c3-31d03f694d89",
   "metadata": {},
   "outputs": [
    {
     "name": "stdout",
     "output_type": "stream",
     "text": [
      "division: 0.5\n"
     ]
    }
   ],
   "source": [
    "print(\"division:\",a/b)"
   ]
  },
  {
   "cell_type": "markdown",
   "id": "b1da0502-c70e-4166-85ee-b9297763ee9b",
   "metadata": {},
   "source": [
    "# Comparision Operatores"
   ]
  },
  {
   "cell_type": "code",
   "execution_count": 38,
   "id": "415fc8e0-ed8a-403d-946d-844cd4f72242",
   "metadata": {},
   "outputs": [],
   "source": [
    "c=20\n",
    "d=30"
   ]
  },
  {
   "cell_type": "markdown",
   "id": "165b22f4-846a-48be-82bf-2788c8288390",
   "metadata": {},
   "source": [
    "# Equal"
   ]
  },
  {
   "cell_type": "code",
   "execution_count": 40,
   "id": "54055434-5c5a-492e-9d21-23ce713c4f86",
   "metadata": {},
   "outputs": [
    {
     "name": "stdout",
     "output_type": "stream",
     "text": [
      "equal: False\n"
     ]
    }
   ],
   "source": [
    "print(\"equal:\",c==d)"
   ]
  },
  {
   "cell_type": "markdown",
   "id": "ea1b31b3-329f-4fc0-8008-2c11e1d70ec7",
   "metadata": {},
   "source": [
    "# Not Equal"
   ]
  },
  {
   "cell_type": "code",
   "execution_count": 43,
   "id": "dd7e2978-bce2-44b6-8623-6052e5ffe8e9",
   "metadata": {},
   "outputs": [
    {
     "name": "stdout",
     "output_type": "stream",
     "text": [
      "Not Equal: True\n"
     ]
    }
   ],
   "source": [
    "print(\"Not Equal:\",c!=d)"
   ]
  },
  {
   "cell_type": "markdown",
   "id": "9bfabcf4-90d2-486a-aeee-03fa67be95cc",
   "metadata": {},
   "source": [
    "# Less than"
   ]
  },
  {
   "cell_type": "code",
   "execution_count": 48,
   "id": "73ab9f88-3e96-4638-b7cd-62b60b93f3b1",
   "metadata": {},
   "outputs": [
    {
     "name": "stdout",
     "output_type": "stream",
     "text": [
      "less than: True\n"
     ]
    }
   ],
   "source": [
    "print(\"less than:\",c<d)"
   ]
  },
  {
   "cell_type": "markdown",
   "id": "55146469-9a52-4035-848f-f06d74715e65",
   "metadata": {},
   "source": [
    "# Greater than"
   ]
  },
  {
   "cell_type": "code",
   "execution_count": 51,
   "id": "c833c804-240f-481e-87d8-37b09646f2c6",
   "metadata": {},
   "outputs": [
    {
     "name": "stdout",
     "output_type": "stream",
     "text": [
      "greater than: False\n"
     ]
    }
   ],
   "source": [
    "print(\"greater than:\",c>d)\n",
    "\n",
    "      "
   ]
  },
  {
   "cell_type": "markdown",
   "id": "2f83a052-6faf-4516-923b-4e28698267aa",
   "metadata": {},
   "source": [
    "# Logical Operatorrs"
   ]
  },
  {
   "cell_type": "code",
   "execution_count": 58,
   "id": "72b6523e-2438-4053-beb4-ce740bdec87a",
   "metadata": {},
   "outputs": [],
   "source": [
    "e=True\n",
    "f=False"
   ]
  },
  {
   "cell_type": "markdown",
   "id": "64e909a7-26f3-4a51-a8c5-f85794dfcf85",
   "metadata": {},
   "source": [
    "# And"
   ]
  },
  {
   "cell_type": "code",
   "execution_count": 60,
   "id": "109e6be8-d7c5-4c6d-ada1-b81e207ff78b",
   "metadata": {},
   "outputs": [
    {
     "name": "stdout",
     "output_type": "stream",
     "text": [
      "And: False\n"
     ]
    }
   ],
   "source": [
    "print(\"And:\",e and f)"
   ]
  },
  {
   "cell_type": "markdown",
   "id": "9c166931-2aa5-4450-85cc-a1318b09ba36",
   "metadata": {},
   "source": [
    " # Or"
   ]
  },
  {
   "cell_type": "code",
   "execution_count": 63,
   "id": "19286638-34d7-4c40-a596-83ac4fec10ed",
   "metadata": {},
   "outputs": [
    {
     "name": "stdout",
     "output_type": "stream",
     "text": [
      "or: True\n"
     ]
    }
   ],
   "source": [
    "print(\"or:\",e or f)"
   ]
  },
  {
   "cell_type": "markdown",
   "id": "39568847-f6a5-464a-94a2-2e49f6332cba",
   "metadata": {},
   "source": [
    "# Assignment Operators"
   ]
  },
  {
   "cell_type": "code",
   "execution_count": 69,
   "id": "71680bd9-f616-42d5-8e4d-722a966e4b9e",
   "metadata": {},
   "outputs": [],
   "source": [
    "g=10\n",
    "g+=5"
   ]
  },
  {
   "cell_type": "markdown",
   "id": "d41e5a7e-5a39-4072-b2e8-6fec02c2d7c9",
   "metadata": {},
   "source": [
    "# Addition Assignment"
   ]
  },
  {
   "cell_type": "code",
   "execution_count": 71,
   "id": "e034cd35-1617-4404-8a9b-9497e553645e",
   "metadata": {},
   "outputs": [
    {
     "name": "stdout",
     "output_type": "stream",
     "text": [
      "addition assignment: 15\n"
     ]
    }
   ],
   "source": [
    "print(\"addition assignment:\",g)"
   ]
  },
  {
   "cell_type": "markdown",
   "id": "be3fccfe-d654-423d-add1-8d3887f57b51",
   "metadata": {},
   "source": [
    "# Substraction Assigment"
   ]
  },
  {
   "cell_type": "code",
   "execution_count": 75,
   "id": "c7a6fde5-c8e7-4829-9491-144eacab7be0",
   "metadata": {},
   "outputs": [
    {
     "name": "stdout",
     "output_type": "stream",
     "text": [
      "substraction assignment: 15\n"
     ]
    }
   ],
   "source": [
    "print(\"substraction assignment:\",g)"
   ]
  },
  {
   "cell_type": "code",
   "execution_count": null,
   "id": "89ab3604-474b-4c6d-93a9-004dc1ac08c0",
   "metadata": {},
   "outputs": [],
   "source": []
  }
 ],
 "metadata": {
  "kernelspec": {
   "display_name": "Python 3 (ipykernel)",
   "language": "python",
   "name": "python3"
  },
  "language_info": {
   "codemirror_mode": {
    "name": "ipython",
    "version": 3
   },
   "file_extension": ".py",
   "mimetype": "text/x-python",
   "name": "python",
   "nbconvert_exporter": "python",
   "pygments_lexer": "ipython3",
   "version": "3.12.4"
  }
 },
 "nbformat": 4,
 "nbformat_minor": 5
}
