{
 "cells": [
  {
   "cell_type": "markdown",
   "id": "170e169f-3b3a-4c23-9ed1-4cb699150bc0",
   "metadata": {},
   "source": [
    "# Create a Tuple"
   ]
  },
  {
   "cell_type": "code",
   "execution_count": 2,
   "id": "7133dca3-028c-4e36-b83c-3677bd85bc2f",
   "metadata": {},
   "outputs": [],
   "source": [
    "colors=(\"red\",\"green\",\"blue\")"
   ]
  },
  {
   "cell_type": "markdown",
   "id": "b9729a4e-dd42-4724-b1b8-a57f9cb938ab",
   "metadata": {},
   "source": [
    "# accessing the elements"
   ]
  },
  {
   "cell_type": "code",
   "execution_count": 5,
   "id": "4ea5176a-f55b-4dfc-bee0-17c1bdbd530a",
   "metadata": {},
   "outputs": [
    {
     "name": "stdout",
     "output_type": "stream",
     "text": [
      "Fisrt color: red\n"
     ]
    }
   ],
   "source": [
    "print(\"Fisrt color:\",colors[0])"
   ]
  },
  {
   "cell_type": "code",
   "execution_count": 7,
   "id": "1f764612-5aa7-4674-b65c-ec70226c9da1",
   "metadata": {},
   "outputs": [
    {
     "name": "stdout",
     "output_type": "stream",
     "text": [
      "Last color: blue\n"
     ]
    }
   ],
   "source": [
    "print(\"Last color:\",colors[-1])"
   ]
  },
  {
   "cell_type": "markdown",
   "id": "4cb82b7f-a136-4d3e-a3df-ee6afb3e9fb2",
   "metadata": {},
   "source": [
    "# Slicing"
   ]
  },
  {
   "cell_type": "code",
   "execution_count": 10,
   "id": "ac240a45-3542-47ab-ae67-b8a947c92a58",
   "metadata": {},
   "outputs": [
    {
     "name": "stdout",
     "output_type": "stream",
     "text": [
      "Middle colors: ('green',)\n"
     ]
    }
   ],
   "source": [
    "print(\"Middle colors:\",colors[1:2])\n",
    "    "
   ]
  },
  {
   "cell_type": "markdown",
   "id": "ae9d2d7b-cd53-4d33-b3ad-2f240297d947",
   "metadata": {},
   "source": [
    "# Concatenation"
   ]
  },
  {
   "cell_type": "raw",
   "id": "31417650-03a7-4716-8dbd-0df95b5ce506",
   "metadata": {},
   "source": [
    "new_colors=colors +(\"yellow\",\"purple\")"
   ]
  },
  {
   "cell_type": "markdown",
   "id": "d2891817-ebaf-40ef-9976-76d4db1dd376",
   "metadata": {},
   "source": [
    "# Repetition"
   ]
  },
  {
   "cell_type": "code",
   "execution_count": 14,
   "id": "f1225ecc-d28f-421c-94eb-0d6e15acda8c",
   "metadata": {},
   "outputs": [
    {
     "ename": "SyntaxError",
     "evalue": "invalid syntax (4252759490.py, line 1)",
     "output_type": "error",
     "traceback": [
      "\u001b[1;36m  Cell \u001b[1;32mIn[14], line 1\u001b[1;36m\u001b[0m\n\u001b[1;33m    repeated_colors=colors*2 print(\"Repeated tuple:\",repeated_colors)\u001b[0m\n\u001b[1;37m                             ^\u001b[0m\n\u001b[1;31mSyntaxError\u001b[0m\u001b[1;31m:\u001b[0m invalid syntax\n"
     ]
    }
   ],
   "source": [
    "repeated_colors=colors*2 print(\"Repeated tuple:\",repeated_colors)"
   ]
  }
 ],
 "metadata": {
  "kernelspec": {
   "display_name": "Python 3 (ipykernel)",
   "language": "python",
   "name": "python3"
  },
  "language_info": {
   "codemirror_mode": {
    "name": "ipython",
    "version": 3
   },
   "file_extension": ".py",
   "mimetype": "text/x-python",
   "name": "python",
   "nbconvert_exporter": "python",
   "pygments_lexer": "ipython3",
   "version": "3.12.4"
  }
 },
 "nbformat": 4,
 "nbformat_minor": 5
}
