{
 "cells": [
  {
   "cell_type": "markdown",
   "id": "b7bee13b-d55f-4da1-a365-68ff3e9a261c",
   "metadata": {},
   "source": [
    "# Array Shape"
   ]
  },
  {
   "cell_type": "markdown",
   "id": "dc792b39-2cce-4e7a-bcda-2b9a95479010",
   "metadata": {},
   "source": [
    "* The shape of an array is a tuple of integers that indicates the number of elements along each dimension."
   ]
  },
  {
   "cell_type": "markdown",
   "id": "f17a6883-3a5e-4b90-a321-f2a196c5215a",
   "metadata": {},
   "source": [
    "* Dimensionality :\n",
    "* A 1D array has shape (n,) where n is the number of elements.\n",
    "* A 2D array has shape (rows, columns).\n",
    "* A 3D array has shape (depth, rows, columns)."
   ]
  },
  {
   "cell_type": "markdown",
   "id": "f6a25e24-5c71-4d2e-a646-22bf5d39ba2d",
   "metadata": {},
   "source": [
    "# 1D array"
   ]
  },
  {
   "cell_type": "code",
   "execution_count": 5,
   "id": "f0065b3f-556c-42a7-9dfd-f69096edc78f",
   "metadata": {},
   "outputs": [
    {
     "name": "stdout",
     "output_type": "stream",
     "text": [
      "(3,)\n"
     ]
    }
   ],
   "source": [
    "import numpy as np\n",
    "a = np.array([1, 2, 3])\n",
    "print(a.shape)\n"
   ]
  },
  {
   "cell_type": "markdown",
   "id": "f0f8bca6-53b5-4b4e-8b39-748afa649f7b",
   "metadata": {},
   "source": [
    "# 2D array"
   ]
  },
  {
   "cell_type": "code",
   "execution_count": 8,
   "id": "359f9f6a-26b7-4071-98e6-0a908504ed28",
   "metadata": {},
   "outputs": [
    {
     "name": "stdout",
     "output_type": "stream",
     "text": [
      "(3, 2)\n"
     ]
    }
   ],
   "source": [
    "b = np.array([[1, 2], [3, 4], [5, 6]])\n",
    "print(b.shape)"
   ]
  },
  {
   "cell_type": "markdown",
   "id": "703358a8-a84f-439e-84d7-e66071487626",
   "metadata": {},
   "source": [
    "# 3D array"
   ]
  },
  {
   "cell_type": "code",
   "execution_count": 11,
   "id": "fba62c9c-2869-43ee-ac54-51995ea62a79",
   "metadata": {},
   "outputs": [
    {
     "name": "stdout",
     "output_type": "stream",
     "text": [
      "(2, 2, 2)\n"
     ]
    }
   ],
   "source": [
    "c = np.array([[[1, 2], [3, 4]], [[5, 6], [7, 8]]])\n",
    "print(c.shape) "
   ]
  },
  {
   "cell_type": "markdown",
   "id": "2a855930-a47b-46c8-b245-54f6d10db6f3",
   "metadata": {},
   "source": [
    "# Checking dimensionality "
   ]
  },
  {
   "cell_type": "markdown",
   "id": "b7043c59-44d3-43ca-8bef-be6a7f0993b4",
   "metadata": {},
   "source": [
    "*  .ndim: Returns the number of dimensions (axes) in the array."
   ]
  },
  {
   "cell_type": "code",
   "execution_count": 17,
   "id": "ade83ff4-db66-4033-bbfc-9f4296dd0cf0",
   "metadata": {},
   "outputs": [
    {
     "name": "stdout",
     "output_type": "stream",
     "text": [
      "2\n"
     ]
    }
   ],
   "source": [
    "print(b.ndim)\n",
    "  \n",
    "\n",
    "\n"
   ]
  },
  {
   "cell_type": "code",
   "execution_count": 19,
   "id": "f33b280c-0846-4b17-94b5-2235d6b4595d",
   "metadata": {},
   "outputs": [
    {
     "name": "stdout",
     "output_type": "stream",
     "text": [
      "3\n"
     ]
    }
   ],
   "source": [
    "print(c.ndim)  "
   ]
  },
  {
   "cell_type": "markdown",
   "id": "b92ca732-ba68-4c7e-a1e7-073970931adc",
   "metadata": {},
   "source": [
    "# Reshaping"
   ]
  },
  {
   "cell_type": "markdown",
   "id": "8d82dae4-60de-46b6-970c-16aee0d486ee",
   "metadata": {},
   "source": [
    "* Reshaping changes the dimensions of an array while keeping the total number of elements the same."
   ]
  },
  {
   "cell_type": "markdown",
   "id": "47fa7e21-2ac9-4435-9327-471680a3e624",
   "metadata": {},
   "source": [
    "# Reshape 1D array to 2D\n",
    "\n",
    "\n",
    "\n"
   ]
  },
  {
   "cell_type": "code",
   "execution_count": 30,
   "id": "8b006272-82d2-4ecb-9949-861ea2f1096d",
   "metadata": {},
   "outputs": [
    {
     "name": "stdout",
     "output_type": "stream",
     "text": [
      "[[1 2 3]\n",
      " [4 5 6]]\n"
     ]
    }
   ],
   "source": [
    "a = np.array([1, 2, 3, 4, 5, 6])\n",
    "b = a.reshape(2, 3)\n",
    "print(b)"
   ]
  },
  {
   "cell_type": "markdown",
   "id": "65eb971f-7568-4eb1-ba5e-05d05770e657",
   "metadata": {},
   "source": [
    "# Reshape to 3D array"
   ]
  },
  {
   "cell_type": "code",
   "execution_count": 32,
   "id": "2a64ae86-a332-47cc-9200-c55f5bae86b4",
   "metadata": {},
   "outputs": [
    {
     "name": "stdout",
     "output_type": "stream",
     "text": [
      "[[[1 2 3]]\n",
      "\n",
      " [[4 5 6]]]\n"
     ]
    }
   ],
   "source": [
    "c = a.reshape(2, 1, 3)\n",
    "print(c)"
   ]
  },
  {
   "cell_type": "markdown",
   "id": "c7dcf4ff-8ae0-4c2c-9547-59eaf951bcfc",
   "metadata": {},
   "source": [
    "# Automatic dimension inference"
   ]
  },
  {
   "cell_type": "code",
   "execution_count": 25,
   "id": "aec3617b-19d5-49b3-bf90-ee8bbbae8a78",
   "metadata": {},
   "outputs": [
    {
     "name": "stdout",
     "output_type": "stream",
     "text": [
      "[[1]\n",
      " [2]\n",
      " [3]]\n"
     ]
    }
   ],
   "source": [
    "d = a.reshape(3, -1)  \n",
    "print(d)"
   ]
  },
  {
   "cell_type": "markdown",
   "id": "6b5bd7cd-af3d-44dc-994e-a23a0c9a5599",
   "metadata": {},
   "source": [
    "# Flattening arrays"
   ]
  },
  {
   "cell_type": "markdown",
   "id": "82d281ea-11b8-41bb-b831-9d09031bbc31",
   "metadata": {},
   "source": [
    "* Flattening converts a multi-dimensional array into a 1D array.\n",
    "\n",
    "*  .flatten(): Returns a flattened copy of the array."
   ]
  },
  {
   "cell_type": "markdown",
   "id": "dfa371a7-7d93-4dad-b6d3-c201db65b5a5",
   "metadata": {},
   "source": [
    "# Flattening a 2D array\n"
   ]
  },
  {
   "cell_type": "code",
   "execution_count": 37,
   "id": "b0b8dd0a-307e-465d-9ab7-af8e4be2e0ba",
   "metadata": {},
   "outputs": [
    {
     "name": "stdout",
     "output_type": "stream",
     "text": [
      "[1 2 3 4 5 6]\n"
     ]
    }
   ],
   "source": [
    "b = np.array([[1, 2, 3], [4, 5, 6]])\n",
    "flat = b.flatten()\n",
    "print(flat) "
   ]
  },
  {
   "cell_type": "markdown",
   "id": "70b74eb1-ff03-4719-b067-9008e65cf099",
   "metadata": {},
   "source": [
    "# Trasposing arrays\n"
   ]
  },
  {
   "cell_type": "markdown",
   "id": "92c6554b-8d9e-44e5-aa40-fe1f8ff9771f",
   "metadata": {},
   "source": [
    "* Transposing changes the order of the axes in a multi-dimensional array.\n",
    "\n",
    "* .transpose() or .T: Reverses the axes (e.g., rows become columns)."
   ]
  },
  {
   "cell_type": "code",
   "execution_count": 43,
   "id": "9eff59da-64e4-410b-9c37-502ee8284484",
   "metadata": {},
   "outputs": [
    {
     "name": "stdout",
     "output_type": "stream",
     "text": [
      "[[1 2 3]\n",
      " [4 5 6]\n",
      " [7 8 9]]\n",
      "\n",
      "[[1 4 7]\n",
      " [2 5 8]\n",
      " [3 6 9]]\n"
     ]
    }
   ],
   "source": [
    "\n",
    "import numpy as np\n",
    "\n",
    "# making a 3x3 array\n",
    "a = np.array([[1, 2, 3],\n",
    "\t\t\t\t[4, 5, 6],\n",
    "\t\t\t\t[7, 8, 9]])\n",
    "\n",
    "# before transpose\n",
    "print(a, end ='\\n\\n')\n",
    "\n",
    "# after transpose\n",
    "print(a.transpose())\n"
   ]
  },
  {
   "cell_type": "markdown",
   "id": "a64c2ac9-3ba6-4efd-bd28-cf74c28404a7",
   "metadata": {},
   "source": [
    "# Concatenating "
   ]
  },
  {
   "cell_type": "markdown",
   "id": "d7aa5752-153a-4129-b3c4-54c03c3a15ce",
   "metadata": {},
   "source": [
    "* Combines arrays along a specified axis."
   ]
  },
  {
   "cell_type": "markdown",
   "id": "24cdddce-1ed8-4ab1-b5eb-81404a767250",
   "metadata": {},
   "source": [
    "# np.concatenate()"
   ]
  },
  {
   "cell_type": "markdown",
   "id": "6dd9f59b-4548-4914-a5ee-1924fe42c319",
   "metadata": {},
   "source": [
    "* The np.concatenate() is the main function for joining arrays in NumPy. It takes a sequence of arrays as input and concatenates them along the specified axis."
   ]
  },
  {
   "cell_type": "code",
   "execution_count": 49,
   "id": "a34d8ec0-742b-4805-a746-09dddd9ddb9b",
   "metadata": {},
   "outputs": [
    {
     "name": "stdout",
     "output_type": "stream",
     "text": [
      "Join two arrays along rows :\n",
      "[[3 8 4 6]\n",
      " [8 7 6 2]\n",
      " [4 2 2 1]\n",
      " [6 4 3 1]]\n",
      "Join two arrays along columns :\n",
      "[[3 8 4 6 4 2 2 1]\n",
      " [8 7 6 2 6 4 3 1]]\n"
     ]
    }
   ],
   "source": [
    "import numpy as np\n",
    "\n",
    "arr1=np.array([[3,8,4,6],[8,7,6,2]])\n",
    "arr2=np.array([[4,2,2,1],[6,4,3,1]])\n",
    "\n",
    "print(\"Join two arrays along rows :\")\n",
    "joint_arr1=np.concatenate((arr1,arr2), axis=0)\n",
    "print(joint_arr1)\n",
    "\n",
    "print(\"Join two arrays along columns :\")\n",
    "joint_arr2=np.concatenate((arr1,arr2), axis=1)\n",
    "print(joint_arr2)"
   ]
  },
  {
   "cell_type": "markdown",
   "id": "56f5bc36-4fa1-46f4-bcb3-7a2ae4daca63",
   "metadata": {},
   "source": [
    "# np.vstack()"
   ]
  },
  {
   "cell_type": "markdown",
   "id": "1fb73106-e245-4964-a648-164db1ee7c87",
   "metadata": {},
   "source": [
    "* Stacks arrays vertically, meaning it appends arrays along the rows (axis 0)."
   ]
  },
  {
   "cell_type": "code",
   "execution_count": 53,
   "id": "594c9608-4576-41c4-a4d2-a476620361ca",
   "metadata": {},
   "outputs": [
    {
     "name": "stdout",
     "output_type": "stream",
     "text": [
      "Array 3:\n",
      "[[7]\n",
      " [8]]\n",
      "\n",
      "Array 4:\n",
      "[[ 9]\n",
      " [10]]\n",
      "\n",
      "Concatenated Vertically:\n",
      "[[ 7]\n",
      " [ 8]\n",
      " [ 9]\n",
      " [10]]\n"
     ]
    }
   ],
   "source": [
    "import numpy as np\n",
    "\n",
    "\n",
    "array3 = np.array([[7], [8]])\n",
    "array4 = np.array([[9], [10]])\n",
    " \n",
    "\n",
    "concatenated_vertical = np.vstack((array3, array4))\n",
    " \n",
    "print(\"Array 3:\")\n",
    "print(array3)\n",
    " \n",
    "print(\"\\nArray 4:\")\n",
    "print(array4)\n",
    " \n",
    "print(\"\\nConcatenated Vertically:\")\n",
    "print(concatenated_vertical)"
   ]
  },
  {
   "cell_type": "markdown",
   "id": "9a06b275-a66d-482a-bc12-cc6e8aee74f5",
   "metadata": {},
   "source": [
    "# np.hstack()"
   ]
  },
  {
   "cell_type": "markdown",
   "id": "ece106b1-1c7d-4a7b-8166-59d1f3c7d7ab",
   "metadata": {},
   "source": [
    "* Stacks arrays horizontally, meaning it appends arrays along the columns (axis 1)."
   ]
  },
  {
   "cell_type": "code",
   "execution_count": 58,
   "id": "cf66b076-5483-4cb6-b18a-e8d5c8df194c",
   "metadata": {},
   "outputs": [
    {
     "name": "stdout",
     "output_type": "stream",
     "text": [
      "Array 1:\n",
      "[[1 2]\n",
      " [3 4]]\n",
      "\n",
      "Array 2:\n",
      "[[5 6]\n",
      " [7 8]]\n",
      "\n",
      "Concatenated Horizontally:\n",
      "[[1 2 5 6]\n",
      " [3 4 7 8]]\n"
     ]
    }
   ],
   "source": [
    "import numpy as np\n",
    "\n",
    "\n",
    "array1 = np.array([[1, 2], [3, 4]])\n",
    "array2 = np.array([[5, 6], [7, 8]])\n",
    "\n",
    "\n",
    "concatenated_horizontal = np.hstack((array1, array2))\n",
    "\n",
    "print(\"Array 1:\")\n",
    "print(array1)\n",
    "\n",
    "print(\"\\nArray 2:\")\n",
    "print(array2)\n",
    "\n",
    "print(\"\\nConcatenated Horizontally:\")\n",
    "print(concatenated_horizontal)"
   ]
  },
  {
   "cell_type": "markdown",
   "id": "2b7b1528-7265-4c2a-ac44-2c435ad4d00b",
   "metadata": {},
   "source": [
    "# Splitting"
   ]
  },
  {
   "cell_type": "markdown",
   "id": "d649ab09-c0be-4f27-8f94-1d46cd7ba1de",
   "metadata": {},
   "source": [
    "* Splitting arrays in NumPy involves dividing a single array into multiple sub-arrays."
   ]
  },
  {
   "cell_type": "markdown",
   "id": "2e0dacb5-9b1a-4844-a594-32262d11ea60",
   "metadata": {},
   "source": [
    "# np.split()"
   ]
  },
  {
   "cell_type": "code",
   "execution_count": 63,
   "id": "bb908503-ec4b-4f78-ad22-f6b3488d7228",
   "metadata": {},
   "outputs": [
    {
     "name": "stdout",
     "output_type": "stream",
     "text": [
      "[array([1, 2, 3]), array([4, 5, 6]), array([7, 8, 9])]\n"
     ]
    }
   ],
   "source": [
    "import numpy as np\n",
    "\n",
    "\n",
    "arr = np.array([1, 2, 3, 4, 5, 6, 7, 8, 9])\n",
    "\n",
    "split_arr = np.split(arr, 3)\n",
    "\n",
    "print(split_arr)"
   ]
  }
 ],
 "metadata": {
  "kernelspec": {
   "display_name": "Python 3 (ipykernel)",
   "language": "python",
   "name": "python3"
  },
  "language_info": {
   "codemirror_mode": {
    "name": "ipython",
    "version": 3
   },
   "file_extension": ".py",
   "mimetype": "text/x-python",
   "name": "python",
   "nbconvert_exporter": "python",
   "pygments_lexer": "ipython3",
   "version": "3.12.4"
  }
 },
 "nbformat": 4,
 "nbformat_minor": 5
}
