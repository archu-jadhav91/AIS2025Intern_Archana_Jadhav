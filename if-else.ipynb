{
 "cells": [
  {
   "cell_type": "markdown",
   "id": "2d2d458c-a4e5-4e90-a5bc-82c4f93e8496",
   "metadata": {},
   "source": [
    "# If-else"
   ]
  },
  {
   "cell_type": "code",
   "execution_count": null,
   "id": "60236f5e-0020-4403-a7fd-ee65be540b66",
   "metadata": {},
   "outputs": [],
   "source": [
    "* The if-else statement provides an alternative block to execute when the condition in if is false."
   ]
  },
  {
   "cell_type": "markdown",
   "id": "bdbb135e-4006-4f6e-85c6-1ef182bd097f",
   "metadata": {},
   "source": [
    "# Grade code"
   ]
  },
  {
   "cell_type": "code",
   "execution_count": 13,
   "id": "85eaddf3-4b4f-470b-9cca-7b6c2f34f30d",
   "metadata": {},
   "outputs": [
    {
     "name": "stdout",
     "output_type": "stream",
     "text": [
      "B\n"
     ]
    }
   ],
   "source": [
    "p=50\n",
    "if p>75:\n",
    "    print(\"O\")\n",
    "elif 60<p<=75:\n",
    "    print(\"A\")\n",
    "elif 50<=p<=60:\n",
    "    print(\"B\")\n",
    "elif 35<=p<=50:\n",
    "    print(\"C\")\n",
    "else:\n",
    "    print(\"Fail\")\n",
    "    "
   ]
  },
  {
   "cell_type": "markdown",
   "id": "20094756-0b5a-40c6-b28a-1f11f417c007",
   "metadata": {},
   "source": [
    "# Divisibility"
   ]
  },
  {
   "cell_type": "code",
   "execution_count": 16,
   "id": "a002bbf4-9a07-4189-a913-d393bc378de4",
   "metadata": {},
   "outputs": [],
   "source": [
    "n=7"
   ]
  },
  {
   "cell_type": "code",
   "execution_count": 28,
   "id": "a3d4abe5-834a-49dd-84cf-8c4b1d88597c",
   "metadata": {},
   "outputs": [
    {
     "name": "stdout",
     "output_type": "stream",
     "text": [
      "Not divisible by 2 or 3\n"
     ]
    },
    {
     "name": "stderr",
     "output_type": "stream",
     "text": [
      "<>:3: SyntaxWarning: invalid decimal literal\n",
      "<>:3: SyntaxWarning: invalid decimal literal\n",
      "C:\\Users\\ABC.COM\\AppData\\Local\\Temp\\ipykernel_10780\\3711065212.py:3: SyntaxWarning: invalid decimal literal\n",
      "  if n%2==0and n%3==0:\n"
     ]
    }
   ],
   "source": [
    "n=7\n",
    "\n",
    "if n%2==0and n%3==0:\n",
    "    print(\"Divisible by 2 and 3\")\n",
    "elif n%2==0:\n",
    "    print(\"Divisible by 2,not 3\")\n",
    "elif n%3==0:\n",
    "    print(\"Divisible by 3,not 2\")\n",
    "else:\n",
    "    print(\"Not divisible by 2 or 3\")\n",
    "\n",
    "\n",
    "\n",
    "\n",
    "\n",
    "\n",
    "\n",
    "\n",
    "\n",
    "\n",
    "\n",
    "\n"
   ]
  },
  {
   "cell_type": "markdown",
   "id": "87e76dfa-0326-40cd-b9d0-d412a124b0d0",
   "metadata": {},
   "source": [
    "# 5 example using if"
   ]
  },
  {
   "cell_type": "markdown",
   "id": "e415806f-dbd0-4dd5-af55-5a6c62138ba4",
   "metadata": {},
   "source": [
    "#  check positive number"
   ]
  },
  {
   "cell_type": "code",
   "execution_count": 33,
   "id": "f1e2fdbd-c7fc-44f8-8cc9-9c624024a60a",
   "metadata": {},
   "outputs": [
    {
     "name": "stdout",
     "output_type": "stream",
     "text": [
      "The number is positive\n"
     ]
    }
   ],
   "source": [
    "num=10\n",
    "if num>0:\n",
    "    print(\"The number is positive\")"
   ]
  },
  {
   "cell_type": "markdown",
   "id": "1821b72e-e362-40a9-816a-e63e0db0a2e3",
   "metadata": {},
   "source": [
    "# Check Even Number"
   ]
  },
  {
   "cell_type": "code",
   "execution_count": 36,
   "id": "6278d4ee-981f-4ee6-8e12-92febbac670b",
   "metadata": {},
   "outputs": [
    {
     "name": "stdout",
     "output_type": "stream",
     "text": [
      "The number is even\n"
     ]
    }
   ],
   "source": [
    "num=4\n",
    "if num%2==0:\n",
    "    print(\"The number is even\")"
   ]
  },
  {
   "cell_type": "markdown",
   "id": "b0986fe4-3ad8-44d2-9c2e-542334146bd7",
   "metadata": {},
   "source": [
    "# check voting eligibility"
   ]
  },
  {
   "cell_type": "code",
   "execution_count": 40,
   "id": "734c5638-f7f7-4867-bc2c-b9875577d358",
   "metadata": {},
   "outputs": [
    {
     "name": "stdout",
     "output_type": "stream",
     "text": [
      "You are eligible for vote\n"
     ]
    }
   ],
   "source": [
    "age=18\n",
    "if age>=18:\n",
    "    print(\"You are eligible for vote\")"
   ]
  },
  {
   "cell_type": "markdown",
   "id": "6976e41c-a266-4f83-84f2-cf3be008acbf",
   "metadata": {},
   "source": [
    "# Check leap Year"
   ]
  },
  {
   "cell_type": "code",
   "execution_count": 43,
   "id": "95a74503-0cdc-4367-8b3a-7007b4d5c8ed",
   "metadata": {},
   "outputs": [
    {
     "name": "stdout",
     "output_type": "stream",
     "text": [
      "Leap year\n"
     ]
    }
   ],
   "source": [
    "year=2024\n",
    "if(year%4==0 and year%100!=0)or(year%400==0):\n",
    "    print(\"Leap year\")"
   ]
  },
  {
   "cell_type": "markdown",
   "id": "aa621f9f-7216-4246-98e9-9575e78752b4",
   "metadata": {},
   "source": [
    "# check greater number"
   ]
  },
  {
   "cell_type": "code",
   "execution_count": 47,
   "id": "1a29c11c-556a-4107-a916-ab5a602a0afe",
   "metadata": {},
   "outputs": [
    {
     "name": "stdout",
     "output_type": "stream",
     "text": [
      "Number is greater than 100\n"
     ]
    }
   ],
   "source": [
    "\n",
    "  num=120\n",
    "if num>100:\n",
    "    print(\"Number is greater than 100\")"
   ]
  },
  {
   "cell_type": "markdown",
   "id": "4ceac946-10bf-4e18-bcea-2954675c20ad",
   "metadata": {},
   "source": [
    "# 5 Examples of if-else"
   ]
  },
  {
   "cell_type": "markdown",
   "id": "74da6233-bfa9-49b7-89bf-89e9bdee1cf2",
   "metadata": {},
   "source": [
    "# Odd or even"
   ]
  },
  {
   "cell_type": "code",
   "execution_count": 51,
   "id": "51aea317-21a3-43ab-8081-515f12aab9a3",
   "metadata": {},
   "outputs": [
    {
     "name": "stdout",
     "output_type": "stream",
     "text": [
      "Odd\n"
     ]
    }
   ],
   "source": [
    "num=9\n",
    "if num%2==0:\n",
    "    print(\"Even\")\n",
    "else:\n",
    "    print(\"Odd\")"
   ]
  },
  {
   "cell_type": "markdown",
   "id": "55c24b13-12ad-4df4-b551-40941d908a4d",
   "metadata": {},
   "source": [
    "# check string length"
   ]
  },
  {
   "cell_type": "code",
   "execution_count": 54,
   "id": "746f45eb-d772-49db-b10b-3cc6b44d2ba2",
   "metadata": {},
   "outputs": [
    {
     "name": "stdout",
     "output_type": "stream",
     "text": [
      "short string\n"
     ]
    }
   ],
   "source": [
    "string=\"Hello\"\n",
    "if len(string)>5:\n",
    "    print(\"Long string\")\n",
    "else:\n",
    "    print(\"short string\")"
   ]
  },
  {
   "cell_type": "markdown",
   "id": "e8cf411a-0af8-45f5-973e-c69472d30b0e",
   "metadata": {},
   "source": [
    "# check eligibility for driving"
   ]
  },
  {
   "cell_type": "code",
   "execution_count": 57,
   "id": "2b0b3087-ad1e-4924-b292-81d836d64eb5",
   "metadata": {},
   "outputs": [
    {
     "name": "stdout",
     "output_type": "stream",
     "text": [
      "Not eligible for driving\n"
     ]
    }
   ],
   "source": [
    "age=16\n",
    "if age>=18:\n",
    "    print(\"Eligible for driving\")\n",
    "else:\n",
    "    print(\"Not eligible for driving\")"
   ]
  },
  {
   "cell_type": "markdown",
   "id": "dbe5d462-f5f4-45f2-9d72-48186e0359fb",
   "metadata": {},
   "source": [
    "# check pass of fail"
   ]
  },
  {
   "cell_type": "code",
   "execution_count": 60,
   "id": "853fd781-f0fc-4f51-947b-3eb335fea5dc",
   "metadata": {},
   "outputs": [
    {
     "name": "stdout",
     "output_type": "stream",
     "text": [
      "pass\n"
     ]
    }
   ],
   "source": [
    "marks=40\n",
    "if marks>=35:\n",
    "    print(\"pass\")\n",
    "else:\n",
    "    print(\"Fail\")"
   ]
  },
  {
   "cell_type": "markdown",
   "id": "bd433f49-58aa-477c-871c-028fe2acdb57",
   "metadata": {},
   "source": [
    "# Check multiple of 5"
   ]
  },
  {
   "cell_type": "code",
   "execution_count": 63,
   "id": "58f27285-3623-4ee0-a53a-37901bdccea5",
   "metadata": {},
   "outputs": [
    {
     "name": "stdout",
     "output_type": "stream",
     "text": [
      "multiple of 5\n"
     ]
    }
   ],
   "source": [
    "n=15\n",
    "if n%5==0:\n",
    "    print(\"multiple of 5\")\n",
    "else:\n",
    "    print(\"Not a multiple of 5\")"
   ]
  },
  {
   "cell_type": "markdown",
   "id": "ce0f7f07-8648-425c-a62b-bf78673a40cb",
   "metadata": {},
   "source": [
    "# 5 example of if-elife-else"
   ]
  },
  {
   "cell_type": "markdown",
   "id": "baeb2eb3-4f97-4b4a-be8a-88c9ca21eedc",
   "metadata": {},
   "source": [
    "# Temperature check"
   ]
  },
  {
   "cell_type": "code",
   "execution_count": 67,
   "id": "64c6e1f2-0151-4889-a16d-44497bef702a",
   "metadata": {},
   "outputs": [
    {
     "name": "stdout",
     "output_type": "stream",
     "text": [
      "warm\n"
     ]
    }
   ],
   "source": [
    "temp=25\n",
    "if temp>35:\n",
    "    print(\"Hot\")\n",
    "elif temp >20:\n",
    "    print(\"warm\")\n",
    "else:\n",
    "    print(\"cold\")"
   ]
  },
  {
   "cell_type": "markdown",
   "id": "72e03442-d13e-4b3e-8af4-03d77bd0cb71",
   "metadata": {},
   "source": [
    "# BMI category"
   ]
  },
  {
   "cell_type": "code",
   "execution_count": 70,
   "id": "e458146b-7a3d-49b3-8d84-82c7d0f81fad",
   "metadata": {},
   "outputs": [
    {
     "name": "stdout",
     "output_type": "stream",
     "text": [
      "Normal weight\n"
     ]
    }
   ],
   "source": [
    "bmi=23\n",
    "if bmi<18.5:\n",
    "    print(\"Underweight\")\n",
    "elif 18.5<=bmi<24.9:\n",
    "    print(\"Normal weight\")\n",
    "elif 25<=bmi<29.9:\n",
    "    print(\"overweight\")\n",
    "else:\n",
    "    print(\"obese\")\n",
    "    "
   ]
  },
  {
   "cell_type": "markdown",
   "id": "e610dc46-085b-4da2-bfe4-745d58936113",
   "metadata": {},
   "source": [
    "# Time of day\n"
   ]
  },
  {
   "cell_type": "code",
   "execution_count": 73,
   "id": "1963a86d-97a8-4c3d-b68d-5c3d8aaa4818",
   "metadata": {},
   "outputs": [
    {
     "name": "stdout",
     "output_type": "stream",
     "text": [
      "afternoon\n"
     ]
    }
   ],
   "source": [
    "hour=14\n",
    "if hour<=12:\n",
    "    print(\"Morning\")\n",
    "elif 12<=hour<18:\n",
    "    print(\"afternoon\")\n",
    "else:\n",
    "    print(\"Evening\")"
   ]
  },
  {
   "cell_type": "markdown",
   "id": "6066bfb3-0bf9-4dd8-8bc1-65ae41a3806b",
   "metadata": {},
   "source": [
    "# Grading of system"
   ]
  },
  {
   "cell_type": "code",
   "execution_count": 76,
   "id": "c09491e2-7951-441b-8ad4-287a284997a8",
   "metadata": {},
   "outputs": [
    {
     "name": "stdout",
     "output_type": "stream",
     "text": [
      "A\n"
     ]
    }
   ],
   "source": [
    "score=85\n",
    "if score>=90:\n",
    "    print(\"A+\")\n",
    "elif score >=80:\n",
    "    print(\"A\")\n",
    "elif score>=70:\n",
    "    print(\"B\")\n",
    "elif score >=60:\n",
    "    print(\"C\")\n",
    "else:\n",
    "    print(\"Fail\")\n",
    "\n"
   ]
  },
  {
   "cell_type": "markdown",
   "id": "eea06047-9f4e-4a78-b0fd-26988282f2d7",
   "metadata": {},
   "source": [
    "# Number Comparison"
   ]
  },
  {
   "cell_type": "code",
   "execution_count": 79,
   "id": "960a7ab1-0cd9-4426-b851-722b578efb83",
   "metadata": {},
   "outputs": [
    {
     "name": "stdout",
     "output_type": "stream",
     "text": [
      "b is greater\n"
     ]
    }
   ],
   "source": [
    "a,b=10,15\n",
    "if a>b:\n",
    "    print(\"a is greater\")\n",
    "elif a<b:\n",
    "    print(\"b is greater\")\n",
    "else:\n",
    "    print(\"Both are equal\")"
   ]
  },
  {
   "cell_type": "code",
   "execution_count": null,
   "id": "dc9f7d85-acb0-48da-9b16-377dcd16e400",
   "metadata": {},
   "outputs": [],
   "source": []
  },
  {
   "cell_type": "code",
   "execution_count": null,
   "id": "841bf2b4-57cc-4806-8eac-d9c4ceae9dd1",
   "metadata": {},
   "outputs": [],
   "source": []
  }
 ],
 "metadata": {
  "kernelspec": {
   "display_name": "Python 3 (ipykernel)",
   "language": "python",
   "name": "python3"
  },
  "language_info": {
   "codemirror_mode": {
    "name": "ipython",
    "version": 3
   },
   "file_extension": ".py",
   "mimetype": "text/x-python",
   "name": "python",
   "nbconvert_exporter": "python",
   "pygments_lexer": "ipython3",
   "version": "3.12.4"
  }
 },
 "nbformat": 4,
 "nbformat_minor": 5
}
