{
 "cells": [
  {
   "cell_type": "markdown",
   "id": "1432d9aa-0029-4d48-b173-9796c25ad5b0",
   "metadata": {},
   "source": [
    "# Odd -Even using while loop"
   ]
  },
  {
   "cell_type": "code",
   "execution_count": 1,
   "id": "006b9b3c-9655-450e-994b-4dcf65ae0ddc",
   "metadata": {},
   "outputs": [
    {
     "name": "stdout",
     "output_type": "stream",
     "text": [
      "1is odd\n",
      "2is even\n",
      "3is odd\n",
      "4is even\n",
      "5is odd\n",
      "6is even\n",
      "7is odd\n",
      "8is even\n",
      "9is odd\n",
      "10is even\n",
      "11is odd\n",
      "12is even\n",
      "13is odd\n",
      "14is even\n",
      "15is odd\n",
      "16is even\n",
      "17is odd\n",
      "18is even\n",
      "19is odd\n",
      "20is even\n"
     ]
    }
   ],
   "source": [
    "n=1\n",
    "while n<=20:\n",
    "    if n%2==0:\n",
    "        print(f\"{n}is even\")\n",
    "        n=n+1\n",
    "    else:\n",
    "        print(f\"{n}is odd\")\n",
    "        n+=1"
   ]
  },
  {
   "cell_type": "markdown",
   "id": "d3094380-90f5-4cdf-9422-eab5518ea515",
   "metadata": {},
   "source": [
    "# Pattern using while loop"
   ]
  },
  {
   "cell_type": "code",
   "execution_count": 8,
   "id": "61447f92-c880-45ea-928f-10c345147d60",
   "metadata": {},
   "outputs": [
    {
     "name": "stdout",
     "output_type": "stream",
     "text": [
      "* \n",
      "* * \n",
      "* * * \n",
      "* * * * \n",
      "* * * * * \n"
     ]
    }
   ],
   "source": [
    "rows=5\n",
    "i=1\n",
    "while i<=rows:\n",
    "    print(\"* \"*i)\n",
    "    i+=1\n"
   ]
  },
  {
   "cell_type": "markdown",
   "id": "c5afe3be-3218-4574-82e7-a77cc6e488b4",
   "metadata": {},
   "source": [
    "# Create a list of numbers from 1 to 20 using while loop"
   ]
  },
  {
   "cell_type": "code",
   "execution_count": 1,
   "id": "a463eee4-1257-4385-a415-c931ea003f5f",
   "metadata": {},
   "outputs": [
    {
     "name": "stdout",
     "output_type": "stream",
     "text": [
      "[1]\n",
      "[1, 2]\n",
      "[1, 2, 3]\n",
      "[1, 2, 3, 4]\n",
      "[1, 2, 3, 4, 5]\n",
      "[1, 2, 3, 4, 5, 6]\n",
      "[1, 2, 3, 4, 5, 6, 7]\n",
      "[1, 2, 3, 4, 5, 6, 7, 8]\n",
      "[1, 2, 3, 4, 5, 6, 7, 8, 9]\n",
      "[1, 2, 3, 4, 5, 6, 7, 8, 9, 10]\n",
      "[1, 2, 3, 4, 5, 6, 7, 8, 9, 10, 11]\n",
      "[1, 2, 3, 4, 5, 6, 7, 8, 9, 10, 11, 12]\n",
      "[1, 2, 3, 4, 5, 6, 7, 8, 9, 10, 11, 12, 13]\n",
      "[1, 2, 3, 4, 5, 6, 7, 8, 9, 10, 11, 12, 13, 14]\n",
      "[1, 2, 3, 4, 5, 6, 7, 8, 9, 10, 11, 12, 13, 14, 15]\n",
      "[1, 2, 3, 4, 5, 6, 7, 8, 9, 10, 11, 12, 13, 14, 15, 16]\n",
      "[1, 2, 3, 4, 5, 6, 7, 8, 9, 10, 11, 12, 13, 14, 15, 16, 17]\n",
      "[1, 2, 3, 4, 5, 6, 7, 8, 9, 10, 11, 12, 13, 14, 15, 16, 17, 18]\n",
      "[1, 2, 3, 4, 5, 6, 7, 8, 9, 10, 11, 12, 13, 14, 15, 16, 17, 18, 19]\n",
      "[1, 2, 3, 4, 5, 6, 7, 8, 9, 10, 11, 12, 13, 14, 15, 16, 17, 18, 19, 20]\n"
     ]
    }
   ],
   "source": [
    "numbers=[]\n",
    "n=1\n",
    "while n<=20:\n",
    "    numbers.append(n)\n",
    "    n+=1\n",
    "    print(numbers)"
   ]
  },
  {
   "cell_type": "markdown",
   "id": "81c0349a-7470-4360-be8a-c30a0d1c703e",
   "metadata": {},
   "source": [
    "# Create a list of numbers from 20 to 1 using while loop"
   ]
  },
  {
   "cell_type": "code",
   "execution_count": 3,
   "id": "ba737c10-952a-427c-ba14-1c00a0f17094",
   "metadata": {},
   "outputs": [
    {
     "name": "stdout",
     "output_type": "stream",
     "text": [
      "[20]\n",
      "[20, 19]\n",
      "[20, 19, 18]\n",
      "[20, 19, 18, 17]\n",
      "[20, 19, 18, 17, 16]\n",
      "[20, 19, 18, 17, 16, 15]\n",
      "[20, 19, 18, 17, 16, 15, 14]\n",
      "[20, 19, 18, 17, 16, 15, 14, 13]\n",
      "[20, 19, 18, 17, 16, 15, 14, 13, 12]\n",
      "[20, 19, 18, 17, 16, 15, 14, 13, 12, 11]\n",
      "[20, 19, 18, 17, 16, 15, 14, 13, 12, 11, 10]\n",
      "[20, 19, 18, 17, 16, 15, 14, 13, 12, 11, 10, 9]\n",
      "[20, 19, 18, 17, 16, 15, 14, 13, 12, 11, 10, 9, 8]\n",
      "[20, 19, 18, 17, 16, 15, 14, 13, 12, 11, 10, 9, 8, 7]\n",
      "[20, 19, 18, 17, 16, 15, 14, 13, 12, 11, 10, 9, 8, 7, 6]\n",
      "[20, 19, 18, 17, 16, 15, 14, 13, 12, 11, 10, 9, 8, 7, 6, 5]\n",
      "[20, 19, 18, 17, 16, 15, 14, 13, 12, 11, 10, 9, 8, 7, 6, 5, 4]\n",
      "[20, 19, 18, 17, 16, 15, 14, 13, 12, 11, 10, 9, 8, 7, 6, 5, 4, 3]\n",
      "[20, 19, 18, 17, 16, 15, 14, 13, 12, 11, 10, 9, 8, 7, 6, 5, 4, 3, 2]\n",
      "[20, 19, 18, 17, 16, 15, 14, 13, 12, 11, 10, 9, 8, 7, 6, 5, 4, 3, 2, 1]\n"
     ]
    }
   ],
   "source": [
    "numbers=[]\n",
    "n=20\n",
    "while n>=1:\n",
    "    numbers.append(n)\n",
    "    n-=1\n",
    "    print(numbers)"
   ]
  },
  {
   "cell_type": "code",
   "execution_count": null,
   "id": "a105c77a-7c33-4c5b-b2b7-c21b86e4021b",
   "metadata": {},
   "outputs": [],
   "source": []
  },
  {
   "cell_type": "code",
   "execution_count": null,
   "id": "1f00f033-a39c-4737-b061-603618624692",
   "metadata": {},
   "outputs": [],
   "source": []
  },
  {
   "cell_type": "code",
   "execution_count": null,
   "id": "1e17a83a-13b9-4c8f-98b4-051862d50c9b",
   "metadata": {},
   "outputs": [],
   "source": []
  },
  {
   "cell_type": "code",
   "execution_count": null,
   "id": "8df31dae-923f-449e-9de4-54799dd48ef9",
   "metadata": {},
   "outputs": [],
   "source": [
    "\n"
   ]
  },
  {
   "cell_type": "code",
   "execution_count": null,
   "id": "3cd0756d-cf55-478c-a3e2-df0e93fddc78",
   "metadata": {},
   "outputs": [],
   "source": []
  },
  {
   "cell_type": "code",
   "execution_count": null,
   "id": "2ad218c5-d30a-43a4-9df3-4b8dd27b4a6e",
   "metadata": {},
   "outputs": [],
   "source": []
  },
  {
   "cell_type": "code",
   "execution_count": null,
   "id": "395c4350-2f30-4177-871a-19f741a4653a",
   "metadata": {},
   "outputs": [],
   "source": []
  },
  {
   "cell_type": "code",
   "execution_count": null,
   "id": "1d5da3dd-8baf-41b3-8759-bbb15a92599e",
   "metadata": {},
   "outputs": [],
   "source": [
    "\n",
    "\n"
   ]
  },
  {
   "cell_type": "code",
   "execution_count": null,
   "id": "b45e09fc-2b0b-4385-ac5d-8d483061bcca",
   "metadata": {},
   "outputs": [],
   "source": []
  },
  {
   "cell_type": "code",
   "execution_count": null,
   "id": "4946a2c5-fbbb-4ac2-a8c4-d65019603a34",
   "metadata": {},
   "outputs": [],
   "source": []
  }
 ],
 "metadata": {
  "kernelspec": {
   "display_name": "Python 3 (ipykernel)",
   "language": "python",
   "name": "python3"
  },
  "language_info": {
   "codemirror_mode": {
    "name": "ipython",
    "version": 3
   },
   "file_extension": ".py",
   "mimetype": "text/x-python",
   "name": "python",
   "nbconvert_exporter": "python",
   "pygments_lexer": "ipython3",
   "version": "3.12.4"
  }
 },
 "nbformat": 4,
 "nbformat_minor": 5
}
