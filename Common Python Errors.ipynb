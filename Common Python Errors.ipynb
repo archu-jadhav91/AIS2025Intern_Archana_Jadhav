{
 "cells": [
  {
   "cell_type": "markdown",
   "id": "8e9854a0-4744-40f6-895d-b2625a3de974",
   "metadata": {},
   "source": [
    "# Common Python errors"
   ]
  },
  {
   "cell_type": "code",
   "execution_count": null,
   "id": "7eb39666-5190-4d4d-a030-232960d96b2d",
   "metadata": {},
   "outputs": [],
   "source": [
    "* Indentation Error\n",
    "Cause: Incorrect indentation in python code\n",
    "fix : use consistent indentation(4 spaces)for blocks of code."
   ]
  },
  {
   "cell_type": "markdown",
   "id": "50fa41ad-dfa8-458f-b423-53b6f4f935a9",
   "metadata": {},
   "source": [
    "# Incorrect indentation\n"
   ]
  },
  {
   "cell_type": "code",
   "execution_count": 3,
   "id": "3c2c753f-7d95-4abb-aaeb-cf92aa816816",
   "metadata": {},
   "outputs": [
    {
     "name": "stdout",
     "output_type": "stream",
     "text": [
      "Hello\n"
     ]
    }
   ],
   "source": [
    "if True:\n",
    "    print(\"Hello\")"
   ]
  },
  {
   "cell_type": "markdown",
   "id": "edf8870e-8a1d-4498-b6da-12b029379c7b",
   "metadata": {},
   "source": [
    "# Correct Indentation"
   ]
  },
  {
   "cell_type": "code",
   "execution_count": 6,
   "id": "1e285388-00fe-4694-933e-08f579323584",
   "metadata": {},
   "outputs": [
    {
     "name": "stdout",
     "output_type": "stream",
     "text": [
      "Hello\n"
     ]
    }
   ],
   "source": [
    "if True:\n",
    "    print (\"Hello\")"
   ]
  },
  {
   "cell_type": "markdown",
   "id": "b79d8661-a372-44a0-965d-a8f37cb95e19",
   "metadata": {},
   "source": [
    "# Name error"
   ]
  },
  {
   "cell_type": "code",
   "execution_count": null,
   "id": "4726677f-67bd-4e4e-92ed-5a0ee71e2dc1",
   "metadata": {},
   "outputs": [],
   "source": [
    "cause: using an undefined variable\n",
    "Fix : Define the variable before using it."
   ]
  },
  {
   "cell_type": "markdown",
   "id": "d02b0be0-805d-40b7-9d66-66c7c1419d8d",
   "metadata": {},
   "source": [
    "# Undefined Variable"
   ]
  },
  {
   "cell_type": "code",
   "execution_count": null,
   "id": "cf6af628-a7a3-43cf-89fe-cdb4466fcbf5",
   "metadata": {},
   "outputs": [],
   "source": [
    "print(x)"
   ]
  },
  {
   "cell_type": "markdown",
   "id": "a8fa20a5-5d17-4e87-b738-5f97031466a8",
   "metadata": {},
   "source": [
    "# Define the variable"
   ]
  },
  {
   "cell_type": "code",
   "execution_count": 13,
   "id": "079611bc-914e-4efb-9904-37c772d34aa3",
   "metadata": {},
   "outputs": [
    {
     "name": "stdout",
     "output_type": "stream",
     "text": [
      "10\n"
     ]
    }
   ],
   "source": [
    "x=10\n",
    "print(x)"
   ]
  },
  {
   "cell_type": "markdown",
   "id": "f8a5ad4e-aaac-4bb8-9614-ef6153d53d1b",
   "metadata": {},
   "source": [
    "# Value Error"
   ]
  },
  {
   "cell_type": "code",
   "execution_count": null,
   "id": "4f948085-ea61-4aa4-b9dd-04facf50be78",
   "metadata": {},
   "outputs": [],
   "source": [
    "* Cause: passing an incorrect value to a function or operation\n",
    "*  Fix:pass the correct value type"
   ]
  },
  {
   "cell_type": "markdown",
   "id": "76a3aa37-b26b-4471-a6a3-187db703e9ae",
   "metadata": {},
   "source": [
    "# Incorrect value type"
   ]
  },
  {
   "cell_type": "code",
   "execution_count": null,
   "id": "8be7132e-d737-47a0-9edf-c48e6b5f6079",
   "metadata": {},
   "outputs": [],
   "source": [
    "int(\"hello\")"
   ]
  },
  {
   "cell_type": "markdown",
   "id": "aade560a-430d-4e11-a626-e9876daac164",
   "metadata": {},
   "source": [
    "# Correct value type"
   ]
  },
  {
   "cell_type": "code",
   "execution_count": null,
   "id": "80c58aff-d09e-4a69-a09e-5ae08932fb90",
   "metadata": {},
   "outputs": [],
   "source": [
    "int(\"10\")"
   ]
  },
  {
   "cell_type": "markdown",
   "id": "bc05c0c2-347f-4e85-b89e-9ac938d759f1",
   "metadata": {},
   "source": [
    "# Type Error"
   ]
  },
  {
   "cell_type": "code",
   "execution_count": null,
   "id": "9668e04d-ff8b-4b9d-a115-632516e6ff77",
   "metadata": {},
   "outputs": [],
   "source": [
    "* Cause : performing an operation on an incorrect data type.\n",
    "* Fix : use the correct data type."
   ]
  },
  {
   "cell_type": "markdown",
   "id": "219a8d9e-d07a-4ea6-bb31-04939723f820",
   "metadata": {},
   "source": [
    "# Incorrect data type"
   ]
  },
  {
   "cell_type": "code",
   "execution_count": null,
   "id": "594774d9-aa51-4f49-8555-7ed4c3993833",
   "metadata": {},
   "outputs": [],
   "source": [
    "\"hello\"+10"
   ]
  },
  {
   "cell_type": "markdown",
   "id": "baa6e8ad-d408-4a9a-ab56-dbfdcebee1d2",
   "metadata": {},
   "source": [
    "# Correct data type "
   ]
  },
  {
   "cell_type": "code",
   "execution_count": null,
   "id": "8824176f-7c96-49e9-b8b2-48b69a305ada",
   "metadata": {},
   "outputs": [],
   "source": [
    "\"hello\"+str(10)"
   ]
  },
  {
   "cell_type": "markdown",
   "id": "dea0054b-3283-44a1-ab66-2d3fbd5e54c0",
   "metadata": {},
   "source": [
    "# Index Error"
   ]
  },
  {
   "cell_type": "code",
   "execution_count": null,
   "id": "bb214aaf-aac9-4986-b2d1-044ff0e914ed",
   "metadata": {},
   "outputs": [],
   "source": [
    "* Cause : accessing an out of range index in a list or tuple.\n",
    "*Fix : access a valid index."
   ]
  },
  {
   "cell_type": "markdown",
   "id": "e26a8a8d-858e-4a40-8f6d-8ba2fe575744",
   "metadata": {},
   "source": [
    "# Out of range index"
   ]
  },
  {
   "cell_type": "code",
   "execution_count": null,
   "id": "6a11f342-459c-4f47-8544-5f2a74858146",
   "metadata": {},
   "outputs": [],
   "source": [
    "my_list=[1,2,3]\n",
    "print(my_list[3])"
   ]
  },
  {
   "cell_type": "markdown",
   "id": "d9d17da6-ea36-4a2c-96a5-0286542ddba7",
   "metadata": {},
   "source": [
    "# Valid Index"
   ]
  },
  {
   "cell_type": "code",
   "execution_count": 5,
   "id": "f343c287-70ea-4c74-868d-7a34a51d5511",
   "metadata": {},
   "outputs": [
    {
     "name": "stdout",
     "output_type": "stream",
     "text": [
      "1\n"
     ]
    }
   ],
   "source": [
    "my_list=[1,2,3]\n",
    "print(my_list[0])"
   ]
  },
  {
   "cell_type": "markdown",
   "id": "d28db07b-06a0-4a47-a0c1-f71237f7716a",
   "metadata": {},
   "source": [
    "# Key Error"
   ]
  },
  {
   "cell_type": "code",
   "execution_count": null,
   "id": "98049730-01b8-44bd-b5e2-b5efc45d375d",
   "metadata": {},
   "outputs": [],
   "source": [
    "* Cause : Accessing a non -existent key in a dictionary.\n",
    "* Fix : Access a valid key."
   ]
  },
  {
   "cell_type": "markdown",
   "id": "a76c4176-be5d-4e3e-8427-c12d73604745",
   "metadata": {},
   "source": [
    "# Non -Existent key"
   ]
  },
  {
   "cell_type": "code",
   "execution_count": null,
   "id": "decf5a38-06be-4725-886b-258568673e7b",
   "metadata": {},
   "outputs": [],
   "source": [
    "my_dict={\"name\":\"John\"}\n",
    "print(my_dict[\"age\"]"
   ]
  },
  {
   "cell_type": "markdown",
   "id": "b3702721-2ccd-4b66-87d9-40ee9ceed447",
   "metadata": {},
   "source": [
    "# Valid key"
   ]
  },
  {
   "cell_type": "code",
   "execution_count": 3,
   "id": "27e50d0e-6693-4cab-91e1-2159be457794",
   "metadata": {},
   "outputs": [
    {
     "name": "stdout",
     "output_type": "stream",
     "text": [
      "John\n"
     ]
    }
   ],
   "source": [
    "my_dict={\"name\":\"John\"}\n",
    "print(my_dict[\"name\"])"
   ]
  },
  {
   "cell_type": "code",
   "execution_count": null,
   "id": "e91ff51a-2e00-4602-9ead-3f249fdb08e1",
   "metadata": {},
   "outputs": [],
   "source": []
  }
 ],
 "metadata": {
  "kernelspec": {
   "display_name": "Python 3 (ipykernel)",
   "language": "python",
   "name": "python3"
  },
  "language_info": {
   "codemirror_mode": {
    "name": "ipython",
    "version": 3
   },
   "file_extension": ".py",
   "mimetype": "text/x-python",
   "name": "python",
   "nbconvert_exporter": "python",
   "pygments_lexer": "ipython3",
   "version": "3.12.4"
  }
 },
 "nbformat": 4,
 "nbformat_minor": 5
}
