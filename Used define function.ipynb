{
 "cells": [
  {
   "cell_type": "markdown",
   "id": "31f3b496-65eb-4d3f-98bf-466a9dcc51cd",
   "metadata": {},
   "source": [
    "# to find the maximum of from given"
   ]
  },
  {
   "cell_type": "code",
   "execution_count": null,
   "id": "21c43ed8-199a-4848-b172-fb4a91b10110",
   "metadata": {},
   "outputs": [],
   "source": [
    "def find_max(*args):\n",
    "    return max(args)"
   ]
  },
  {
   "cell_type": "markdown",
   "id": "035b11e5-172f-4e8a-abdc-416b28118f84",
   "metadata": {},
   "source": [
    "# Example "
   ]
  },
  {
   "cell_type": "code",
   "execution_count": 18,
   "id": "00d34222-f850-4f8e-a355-1d1d4777ce5b",
   "metadata": {},
   "outputs": [
    {
     "name": "stdout",
     "output_type": "stream",
     "text": [
      "7\n"
     ]
    }
   ],
   "source": [
    "\n",
    "\n",
    "    print(find_max(3,5,7,2))"
   ]
  },
  {
   "cell_type": "markdown",
   "id": "1a696bfc-284f-4741-965d-eb6182a5c8be",
   "metadata": {},
   "source": [
    "# Sum all the numbers in a list "
   ]
  },
  {
   "cell_type": "code",
   "execution_count": 27,
   "id": "e9c9cdba-0065-45a5-8cf5-99d7ea6b0146",
   "metadata": {},
   "outputs": [],
   "source": [
    "def sum_list(numbers):\n",
    "   return sum(numbers)"
   ]
  },
  {
   "cell_type": "markdown",
   "id": "2f499fe4-44c3-4e92-aec9-3803f4ec6e65",
   "metadata": {},
   "source": [
    "# Example"
   ]
  },
  {
   "cell_type": "code",
   "execution_count": 29,
   "id": "54a079e7-d474-4379-8b81-a1f047ba8f47",
   "metadata": {},
   "outputs": [
    {
     "name": "stdout",
     "output_type": "stream",
     "text": [
      "20\n"
     ]
    }
   ],
   "source": [
    "sample_list=[8,2,3,0,7]\n",
    "print(sum_list(sample_list))"
   ]
  },
  {
   "cell_type": "markdown",
   "id": "6d15e68b-6d58-4bbd-b1b0-b849c743c370",
   "metadata": {},
   "source": [
    "# Return a new list with distinct elements"
   ]
  },
  {
   "cell_type": "code",
   "execution_count": 32,
   "id": "f6b317e1-c149-4475-8eff-cbde3c71198d",
   "metadata": {},
   "outputs": [],
   "source": [
    "def get_unique_elements(sample_list):\n",
    "    return list(set(sample_list))"
   ]
  },
  {
   "cell_type": "markdown",
   "id": "e7ee1dcb-dbd5-468a-bc37-8d89fc385629",
   "metadata": {},
   "source": [
    "# Example"
   ]
  },
  {
   "cell_type": "code",
   "execution_count": 35,
   "id": "cc9a08b6-2c79-41b3-b89d-ab82422b9561",
   "metadata": {},
   "outputs": [
    {
     "name": "stdout",
     "output_type": "stream",
     "text": [
      "[1, 2, 3, 4, 5]\n"
     ]
    }
   ],
   "source": [
    "sample_list=[1,2,3,3,3,3,4,5]\n",
    "print(get_unique_elements(sample_list))"
   ]
  },
  {
   "cell_type": "markdown",
   "id": "bb32b2f5-d611-4542-8d99-fc7749ad9a86",
   "metadata": {},
   "source": [
    "# Total number of combinations"
   ]
  },
  {
   "cell_type": "code",
   "execution_count": 39,
   "id": "40c1cffc-cf78-46a4-a8df-7181c823c36d",
   "metadata": {},
   "outputs": [],
   "source": [
    "from itertools import combinations\n",
    "\n",
    "def count_combinations(elements):\n",
    "    comb_list = []\n",
    "    for r in range(2, len(elements) + 1):\n",
    "        comb_list.extend(combinations(elements, r))\n",
    "    return len(comb_list), [''.join(c) for c in comb_list]"
   ]
  },
  {
   "cell_type": "markdown",
   "id": "546a84ca-7d42-423b-ab9d-ee2ad49c5132",
   "metadata": {},
   "source": [
    "# Example"
   ]
  },
  {
   "cell_type": "code",
   "execution_count": 41,
   "id": "0e14c1ac-dde3-4d0f-bc2b-76b6e0440b1d",
   "metadata": {},
   "outputs": [
    {
     "name": "stdout",
     "output_type": "stream",
     "text": [
      "Total combinations: 4\n",
      "Combinations: ['ab', 'ac', 'bc', 'abc']\n"
     ]
    }
   ],
   "source": [
    "elements = ['a', 'b', 'c']\n",
    "count, comb_list = count_combinations(elements)\n",
    "print(f\"Total combinations: {count}\")  \n",
    "print(f\"Combinations: {comb_list}\")  "
   ]
  },
  {
   "cell_type": "markdown",
   "id": "61c4c9c7-3fae-4917-9589-13bdc94ca8f7",
   "metadata": {},
   "source": [
    "# Total number of permutation"
   ]
  },
  {
   "cell_type": "code",
   "execution_count": 44,
   "id": "a1b70c90-79c1-4b61-8185-353b7441ab7f",
   "metadata": {},
   "outputs": [],
   "source": [
    "from itertools import permutations\n",
    "\n",
    "def count_permutations(elements):\n",
    "    perm_list = list(permutations(elements, 2))\n",
    "    return len(perm_list), [''.join(p) for p in perm_list]"
   ]
  },
  {
   "cell_type": "markdown",
   "id": "678fae34-71c8-4045-93b2-933b5ac2c68e",
   "metadata": {},
   "source": [
    "# Example "
   ]
  },
  {
   "cell_type": "code",
   "execution_count": 49,
   "id": "4983f328-cbd5-45a9-9a32-5e1aebe6028e",
   "metadata": {},
   "outputs": [
    {
     "name": "stdout",
     "output_type": "stream",
     "text": [
      "Total permutations: 6\n",
      "Permutations: ['ab', 'ac', 'ba', 'bc', 'ca', 'cb']\n"
     ]
    }
   ],
   "source": [
    "elements = ['a', 'b', 'c']\n",
    "count, perm_list = count_permutations(elements)\n",
    "print(f\"Total permutations: {count}\")  \n",
    "print(f\"Permutations: {perm_list}\")"
   ]
  },
  {
   "cell_type": "markdown",
   "id": "da4b23bc-1b33-4fed-9c41-b28e5f6f4a48",
   "metadata": {},
   "source": [
    "# Function which counts vowels and consonant in a word"
   ]
  },
  {
   "cell_type": "code",
   "execution_count": 54,
   "id": "15df883a-a568-4691-9b5b-8a4f31cfb2d6",
   "metadata": {},
   "outputs": [],
   "source": [
    "def count_vowels_and_consonants(word):\n",
    "    vowels = \"aeiou\"\n",
    "    word = word.lower()\n",
    "    vowel_count = sum(1 for char in word if char in vowels)\n",
    "    consonant_count = len(word) - vowel_count\n",
    "    return vowel_count, consonant_count\n"
   ]
  },
  {
   "cell_type": "markdown",
   "id": "bce56189-7d9d-4b6f-9209-8b730fa1bd03",
   "metadata": {},
   "source": [
    "# Example"
   ]
  },
  {
   "cell_type": "code",
   "execution_count": 57,
   "id": "76d1a75f-e34e-4a33-a72d-087becac7125",
   "metadata": {},
   "outputs": [
    {
     "name": "stdout",
     "output_type": "stream",
     "text": [
      "Count of vowels: 3\n",
      "Count of consonants: 7\n"
     ]
    }
   ],
   "source": [
    "word = \"statistics\"\n",
    "vowels, consonants = count_vowels_and_consonants(word)\n",
    "print(f\"Count of vowels: {vowels}\")        \n",
    "print(f\"Count of consonants: {consonants}\")"
   ]
  },
  {
   "cell_type": "markdown",
   "id": "5bb3d119-4970-4ad7-a861-3da2de538527",
   "metadata": {},
   "source": [
    "# Function that accepts lowercase words and returns uppercase words."
   ]
  },
  {
   "cell_type": "code",
   "execution_count": 60,
   "id": "baaeef84-e4ae-49a2-888d-062b9babff51",
   "metadata": {},
   "outputs": [],
   "source": [
    "def to_uppercase(word):\n",
    "    return word.upper()"
   ]
  },
  {
   "cell_type": "markdown",
   "id": "06ad81af-dcc5-4c28-b3f9-966cd050678d",
   "metadata": {},
   "source": [
    "# Example"
   ]
  },
  {
   "cell_type": "code",
   "execution_count": 63,
   "id": "83c341eb-c383-420d-9ebb-0bdfad119789",
   "metadata": {},
   "outputs": [
    {
     "name": "stdout",
     "output_type": "stream",
     "text": [
      "Uppercase: STATISTICS\n"
     ]
    }
   ],
   "source": [
    "word = \"statistics\"\n",
    "print(f\"Uppercase: {to_uppercase(word)}\") "
   ]
  },
  {
   "cell_type": "markdown",
   "id": "0a0ca949-ef11-4eb0-b86a-14904c741a5a",
   "metadata": {},
   "source": [
    "# Count lower case and upper case letter."
   ]
  },
  {
   "cell_type": "code",
   "execution_count": 66,
   "id": "c0b92cf0-3b49-4198-9026-04bbaa888a3a",
   "metadata": {},
   "outputs": [],
   "source": [
    "def count_case(word):\n",
    "    uppercase_count = sum(1 for char in word if char.isupper())\n",
    "    lowercase_count = sum(1 for char in word if char.islower())\n",
    "    return uppercase_count, lowercase_count"
   ]
  },
  {
   "cell_type": "markdown",
   "id": "9b09dba0-8ab8-4e55-b7c9-0254bf760248",
   "metadata": {},
   "source": [
    "# Example"
   ]
  },
  {
   "cell_type": "code",
   "execution_count": 69,
   "id": "da9f457a-2438-4c3c-97a6-74076b9adc41",
   "metadata": {},
   "outputs": [
    {
     "name": "stdout",
     "output_type": "stream",
     "text": [
      "Uppercase letters: 5\n",
      "Lowercase letters: 5\n"
     ]
    }
   ],
   "source": [
    "word = \"STatiStiCS\"\n",
    "uppercase, lowercase = count_case(word)\n",
    "print(f\"Uppercase letters: {uppercase}\")  \n",
    "print(f\"Lowercase letters: {lowercase}\") "
   ]
  }
 ],
 "metadata": {
  "kernelspec": {
   "display_name": "Python 3 (ipykernel)",
   "language": "python",
   "name": "python3"
  },
  "language_info": {
   "codemirror_mode": {
    "name": "ipython",
    "version": 3
   },
   "file_extension": ".py",
   "mimetype": "text/x-python",
   "name": "python",
   "nbconvert_exporter": "python",
   "pygments_lexer": "ipython3",
   "version": "3.12.4"
  }
 },
 "nbformat": 4,
 "nbformat_minor": 5
}
