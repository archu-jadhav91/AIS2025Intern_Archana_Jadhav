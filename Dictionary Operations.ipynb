{
 "cells": [
  {
   "cell_type": "markdown",
   "id": "2424107b-3f4d-417e-bb8e-26f5f528a962",
   "metadata": {},
   "source": [
    "# Dictionaries in Python"
   ]
  },
  {
   "cell_type": "markdown",
   "id": "8d795ff6-4694-40c6-b7c6-fe97b9d5ea54",
   "metadata": {},
   "source": [
    "# Empty Dictionary"
   ]
  },
  {
   "cell_type": "code",
   "execution_count": null,
   "id": "5ce95ec9-da9d-4cce-aeaa-c16947ce34e4",
   "metadata": {},
   "outputs": [],
   "source": [
    "my_dict={}"
   ]
  },
  {
   "cell_type": "markdown",
   "id": "c2fce4b2-5d8d-48fe-bd19-2d7e5f5523f2",
   "metadata": {},
   "source": [
    "# Dictionary with initial values"
   ]
  },
  {
   "cell_type": "code",
   "execution_count": 4,
   "id": "03a506af-4151-4681-86de-2c3ea7138c0a",
   "metadata": {},
   "outputs": [],
   "source": [
    "my_dict={\"name\":\"john\",\"age\":30}"
   ]
  },
  {
   "cell_type": "markdown",
   "id": "aa25ef1f-8528-4568-9067-d5d425a017a2",
   "metadata": {},
   "source": [
    "# Dictionary with mixed data types"
   ]
  },
  {
   "cell_type": "code",
   "execution_count": 9,
   "id": "037a101a-ca18-4bdc-a60f-5e029390a8de",
   "metadata": {},
   "outputs": [],
   "source": [
    "my_dict={\"name\":\"john\",\"age\":25,\"city\":\"New York\"}"
   ]
  },
  {
   "cell_type": "markdown",
   "id": "e5b6210e-df2b-4d4f-8747-be3c09c77826",
   "metadata": {},
   "source": [
    "# Accessing Dictionary Elements"
   ]
  },
  {
   "cell_type": "code",
   "execution_count": 12,
   "id": "ae7b39a4-8fce-41a6-bf5f-5f2db93dafe0",
   "metadata": {},
   "outputs": [],
   "source": [
    "my_dict={\"name\":\"John\",\"age\":30}"
   ]
  },
  {
   "cell_type": "markdown",
   "id": "98bb038f-2630-4f2d-8664-d01ee71eb08c",
   "metadata": {},
   "source": [
    "# accessing an element by key"
   ]
  },
  {
   "cell_type": "code",
   "execution_count": 15,
   "id": "38a76125-ceae-4846-873f-a25c956f567e",
   "metadata": {},
   "outputs": [
    {
     "name": "stdout",
     "output_type": "stream",
     "text": [
      "John\n"
     ]
    }
   ],
   "source": [
    "print(my_dict[\"name\"])"
   ]
  },
  {
   "cell_type": "markdown",
   "id": "95e819ff-6ed9-4eca-a490-8b4fdefafada",
   "metadata": {},
   "source": [
    "# Dictionary operations"
   ]
  },
  {
   "cell_type": "code",
   "execution_count": 18,
   "id": "adf87ce1-7f53-498c-bac8-0031feac9f4e",
   "metadata": {},
   "outputs": [],
   "source": [
    "my_dict={\"name\":\"John\",\"age\":30}"
   ]
  },
  {
   "cell_type": "markdown",
   "id": "581a364c-71cc-4b3f-bd47-cde1c444a2fb",
   "metadata": {},
   "source": [
    "# Update"
   ]
  },
  {
   "cell_type": "code",
   "execution_count": 21,
   "id": "5300d364-29ac-4c53-982a-60a96fd6e5bc",
   "metadata": {},
   "outputs": [],
   "source": [
    "my_dict[\"age\"]=31"
   ]
  },
  {
   "cell_type": "code",
   "execution_count": 23,
   "id": "4678e7d3-a863-419d-9a76-e9d5de6f42b9",
   "metadata": {},
   "outputs": [
    {
     "name": "stdout",
     "output_type": "stream",
     "text": [
      "{'name': 'John', 'age': 31}\n"
     ]
    }
   ],
   "source": [
    "print(my_dict)"
   ]
  },
  {
   "cell_type": "markdown",
   "id": "bf726674-7112-4ff5-982a-5e0d7b70c9ac",
   "metadata": {},
   "source": [
    "# Delete"
   ]
  },
  {
   "cell_type": "code",
   "execution_count": 26,
   "id": "aa29d4dc-1489-432e-97c1-aa27cfbac35f",
   "metadata": {},
   "outputs": [],
   "source": [
    "del my_dict[\"age\"]"
   ]
  },
  {
   "cell_type": "code",
   "execution_count": 28,
   "id": "60a84e63-702f-4b1e-9fb8-4ac9f59a2cd4",
   "metadata": {},
   "outputs": [
    {
     "name": "stdout",
     "output_type": "stream",
     "text": [
      "{'name': 'John'}\n"
     ]
    }
   ],
   "source": [
    "print(my_dict)"
   ]
  },
  {
   "cell_type": "markdown",
   "id": "0a454ca8-7ce6-401b-acf2-457693b8b7af",
   "metadata": {},
   "source": [
    "# Dictionary Methods"
   ]
  },
  {
   "cell_type": "code",
   "execution_count": 31,
   "id": "0a641b18-ce32-44bd-866c-fe3579fd5d8f",
   "metadata": {},
   "outputs": [],
   "source": [
    "my_dict={\"name\":\"John\",\"age\":30}"
   ]
  },
  {
   "cell_type": "markdown",
   "id": "50462d6c-4140-4f4a-8044-eb909c9f507a",
   "metadata": {},
   "source": [
    "# Get"
   ]
  },
  {
   "cell_type": "code",
   "execution_count": 34,
   "id": "f004b76c-cbe4-4fc2-8e11-0ed80653bdb0",
   "metadata": {},
   "outputs": [
    {
     "name": "stdout",
     "output_type": "stream",
     "text": [
      "John\n"
     ]
    }
   ],
   "source": [
    "print(my_dict.get(\"name\"))"
   ]
  },
  {
   "cell_type": "markdown",
   "id": "ac864ab7-9e51-4ddd-a625-62b9cd01bf3d",
   "metadata": {},
   "source": [
    "# Items"
   ]
  },
  {
   "cell_type": "code",
   "execution_count": 37,
   "id": "2b3dc2a8-4297-4792-bcba-20979e65b322",
   "metadata": {},
   "outputs": [
    {
     "name": "stdout",
     "output_type": "stream",
     "text": [
      "dict_items([('name', 'John'), ('age', 30)])\n"
     ]
    }
   ],
   "source": [
    "print(my_dict.items())"
   ]
  },
  {
   "cell_type": "markdown",
   "id": "fc2caa1b-a46d-4b36-8b1f-0d83c49a8824",
   "metadata": {},
   "source": [
    "# Keys"
   ]
  },
  {
   "cell_type": "code",
   "execution_count": 40,
   "id": "5b642168-1067-40ed-ace1-8a319945b800",
   "metadata": {},
   "outputs": [
    {
     "name": "stdout",
     "output_type": "stream",
     "text": [
      "dict_keys(['name', 'age'])\n"
     ]
    }
   ],
   "source": [
    "print(my_dict.keys())"
   ]
  },
  {
   "cell_type": "markdown",
   "id": "4e2c106e-adcc-4e80-a7af-1a55959ca2d6",
   "metadata": {},
   "source": [
    "# Values"
   ]
  },
  {
   "cell_type": "code",
   "execution_count": 43,
   "id": "ff96aa73-aa59-4ff0-a261-dcda72f736aa",
   "metadata": {},
   "outputs": [
    {
     "name": "stdout",
     "output_type": "stream",
     "text": [
      "dict_values(['John', 30])\n"
     ]
    }
   ],
   "source": [
    "print(my_dict.values())"
   ]
  },
  {
   "cell_type": "code",
   "execution_count": null,
   "id": "a001080b-47f1-4805-ab9a-23a5d6df8f2b",
   "metadata": {},
   "outputs": [],
   "source": []
  }
 ],
 "metadata": {
  "kernelspec": {
   "display_name": "Python 3 (ipykernel)",
   "language": "python",
   "name": "python3"
  },
  "language_info": {
   "codemirror_mode": {
    "name": "ipython",
    "version": 3
   },
   "file_extension": ".py",
   "mimetype": "text/x-python",
   "name": "python",
   "nbconvert_exporter": "python",
   "pygments_lexer": "ipython3",
   "version": "3.12.4"
  }
 },
 "nbformat": 4,
 "nbformat_minor": 5
}
